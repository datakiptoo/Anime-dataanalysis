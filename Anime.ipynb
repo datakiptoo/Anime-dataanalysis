{
 "cells": [
  {
   "cell_type": "markdown",
   "metadata": {},
   "source": [
    "In the recent years, the anime industry has grown significantly, Japan and around the world, consequently, many series, movies, ovas, etc. have been created by that industry. Either focused for children, teens or adults.\n",
    "\n",
    "Therefore, we would like to get significant features of each anime to know how they influence the score of viewers with respect to other animes.\n",
    "\n",
    "Finally, we are going to give some recommendations on how an anime could have a better chance of being more highly rated."
   ]
  },
  {
   "cell_type": "code",
   "execution_count": null,
   "metadata": {},
   "outputs": [
    {
     "name": "stdout",
     "output_type": "stream",
     "text": [
      "Requirement already satisfied: pip in c:\\users\\hp\\anaconda3\\lib\\site-packages (22.1.2)\n"
     ]
    }
   ],
   "source": [
    "! python -m pip install --upgrade pip"
   ]
  },
  {
   "cell_type": "code",
   "execution_count": null,
   "metadata": {},
   "outputs": [],
   "source": []
  },
  {
   "cell_type": "code",
   "execution_count": null,
   "metadata": {},
   "outputs": [],
   "source": [
    "#AnimeDataset"
   ]
  },
  {
   "cell_type": "markdown",
   "metadata": {},
   "source": [
    "This dataset contains information about 17.562 anime and the preference from 325.772 different users. In particular, this dataset contain:\n",
    "\n",
    "The anime list per user. Include dropped, complete, plan to watch, currently watching and on hold.\n",
    "Ratings given by users to the animes that they has watched completely.\n",
    "Information about the anime like genre, stats, studio, etc.\n",
    "HTML with anime information to do data scrapping. These files contain information such as reviews, synopsis, information about the staff, anime statistics, genre, etc."
   ]
  },
  {
   "cell_type": "code",
   "execution_count": 108,
   "metadata": {},
   "outputs": [],
   "source": [
    "import pandas as pd\n",
    "import numpy as np\n",
    "import matplotlib.pyplot as plt\n",
    "import seaborn as sns"
   ]
  },
  {
   "cell_type": "code",
   "execution_count": null,
   "metadata": {},
   "outputs": [
    {
     "data": {
      "text/html": [
       "<div>\n",
       "<style scoped>\n",
       "    .dataframe tbody tr th:only-of-type {\n",
       "        vertical-align: middle;\n",
       "    }\n",
       "\n",
       "    .dataframe tbody tr th {\n",
       "        vertical-align: top;\n",
       "    }\n",
       "\n",
       "    .dataframe thead th {\n",
       "        text-align: right;\n",
       "    }\n",
       "</style>\n",
       "<table border=\"1\" class=\"dataframe\">\n",
       "  <thead>\n",
       "    <tr style=\"text-align: right;\">\n",
       "      <th></th>\n",
       "      <th>MAL_ID</th>\n",
       "      <th>Name</th>\n",
       "      <th>Score</th>\n",
       "      <th>Genres</th>\n",
       "      <th>English name</th>\n",
       "      <th>Japanese name</th>\n",
       "      <th>Type</th>\n",
       "      <th>Episodes</th>\n",
       "      <th>Aired</th>\n",
       "      <th>Premiered</th>\n",
       "      <th>...</th>\n",
       "      <th>Score-10</th>\n",
       "      <th>Score-9</th>\n",
       "      <th>Score-8</th>\n",
       "      <th>Score-7</th>\n",
       "      <th>Score-6</th>\n",
       "      <th>Score-5</th>\n",
       "      <th>Score-4</th>\n",
       "      <th>Score-3</th>\n",
       "      <th>Score-2</th>\n",
       "      <th>Score-1</th>\n",
       "    </tr>\n",
       "  </thead>\n",
       "  <tbody>\n",
       "    <tr>\n",
       "      <th>0</th>\n",
       "      <td>1</td>\n",
       "      <td>Cowboy Bebop</td>\n",
       "      <td>8.78</td>\n",
       "      <td>Action, Adventure, Comedy, Drama, Sci-Fi, Space</td>\n",
       "      <td>Cowboy Bebop</td>\n",
       "      <td>カウボーイビバップ</td>\n",
       "      <td>TV</td>\n",
       "      <td>26</td>\n",
       "      <td>Apr 3, 1998 to Apr 24, 1999</td>\n",
       "      <td>Spring 1998</td>\n",
       "      <td>...</td>\n",
       "      <td>229170.0</td>\n",
       "      <td>182126.0</td>\n",
       "      <td>131625.0</td>\n",
       "      <td>62330.0</td>\n",
       "      <td>20688.0</td>\n",
       "      <td>8904.0</td>\n",
       "      <td>3184.0</td>\n",
       "      <td>1357.0</td>\n",
       "      <td>741.0</td>\n",
       "      <td>1580.0</td>\n",
       "    </tr>\n",
       "    <tr>\n",
       "      <th>1</th>\n",
       "      <td>5</td>\n",
       "      <td>Cowboy Bebop: Tengoku no Tobira</td>\n",
       "      <td>8.39</td>\n",
       "      <td>Action, Drama, Mystery, Sci-Fi, Space</td>\n",
       "      <td>Cowboy Bebop:The Movie</td>\n",
       "      <td>カウボーイビバップ 天国の扉</td>\n",
       "      <td>Movie</td>\n",
       "      <td>1</td>\n",
       "      <td>Sep 1, 2001</td>\n",
       "      <td>Unknown</td>\n",
       "      <td>...</td>\n",
       "      <td>30043.0</td>\n",
       "      <td>49201.0</td>\n",
       "      <td>49505.0</td>\n",
       "      <td>22632.0</td>\n",
       "      <td>5805.0</td>\n",
       "      <td>1877.0</td>\n",
       "      <td>577.0</td>\n",
       "      <td>221.0</td>\n",
       "      <td>109.0</td>\n",
       "      <td>379.0</td>\n",
       "    </tr>\n",
       "    <tr>\n",
       "      <th>2</th>\n",
       "      <td>6</td>\n",
       "      <td>Trigun</td>\n",
       "      <td>8.24</td>\n",
       "      <td>Action, Sci-Fi, Adventure, Comedy, Drama, Shounen</td>\n",
       "      <td>Trigun</td>\n",
       "      <td>トライガン</td>\n",
       "      <td>TV</td>\n",
       "      <td>26</td>\n",
       "      <td>Apr 1, 1998 to Sep 30, 1998</td>\n",
       "      <td>Spring 1998</td>\n",
       "      <td>...</td>\n",
       "      <td>50229.0</td>\n",
       "      <td>75651.0</td>\n",
       "      <td>86142.0</td>\n",
       "      <td>49432.0</td>\n",
       "      <td>15376.0</td>\n",
       "      <td>5838.0</td>\n",
       "      <td>1965.0</td>\n",
       "      <td>664.0</td>\n",
       "      <td>316.0</td>\n",
       "      <td>533.0</td>\n",
       "    </tr>\n",
       "    <tr>\n",
       "      <th>3</th>\n",
       "      <td>7</td>\n",
       "      <td>Witch Hunter Robin</td>\n",
       "      <td>7.27</td>\n",
       "      <td>Action, Mystery, Police, Supernatural, Drama, ...</td>\n",
       "      <td>Witch Hunter Robin</td>\n",
       "      <td>Witch Hunter ROBIN (ウイッチハンターロビン)</td>\n",
       "      <td>TV</td>\n",
       "      <td>26</td>\n",
       "      <td>Jul 2, 2002 to Dec 24, 2002</td>\n",
       "      <td>Summer 2002</td>\n",
       "      <td>...</td>\n",
       "      <td>2182.0</td>\n",
       "      <td>4806.0</td>\n",
       "      <td>10128.0</td>\n",
       "      <td>11618.0</td>\n",
       "      <td>5709.0</td>\n",
       "      <td>2920.0</td>\n",
       "      <td>1083.0</td>\n",
       "      <td>353.0</td>\n",
       "      <td>164.0</td>\n",
       "      <td>131.0</td>\n",
       "    </tr>\n",
       "    <tr>\n",
       "      <th>4</th>\n",
       "      <td>8</td>\n",
       "      <td>Bouken Ou Beet</td>\n",
       "      <td>6.98</td>\n",
       "      <td>Adventure, Fantasy, Shounen, Supernatural</td>\n",
       "      <td>Beet the Vandel Buster</td>\n",
       "      <td>冒険王ビィト</td>\n",
       "      <td>TV</td>\n",
       "      <td>52</td>\n",
       "      <td>Sep 30, 2004 to Sep 29, 2005</td>\n",
       "      <td>Fall 2004</td>\n",
       "      <td>...</td>\n",
       "      <td>312.0</td>\n",
       "      <td>529.0</td>\n",
       "      <td>1242.0</td>\n",
       "      <td>1713.0</td>\n",
       "      <td>1068.0</td>\n",
       "      <td>634.0</td>\n",
       "      <td>265.0</td>\n",
       "      <td>83.0</td>\n",
       "      <td>50.0</td>\n",
       "      <td>27.0</td>\n",
       "    </tr>\n",
       "    <tr>\n",
       "      <th>...</th>\n",
       "      <td>...</td>\n",
       "      <td>...</td>\n",
       "      <td>...</td>\n",
       "      <td>...</td>\n",
       "      <td>...</td>\n",
       "      <td>...</td>\n",
       "      <td>...</td>\n",
       "      <td>...</td>\n",
       "      <td>...</td>\n",
       "      <td>...</td>\n",
       "      <td>...</td>\n",
       "      <td>...</td>\n",
       "      <td>...</td>\n",
       "      <td>...</td>\n",
       "      <td>...</td>\n",
       "      <td>...</td>\n",
       "      <td>...</td>\n",
       "      <td>...</td>\n",
       "      <td>...</td>\n",
       "      <td>...</td>\n",
       "      <td>...</td>\n",
       "    </tr>\n",
       "    <tr>\n",
       "      <th>17557</th>\n",
       "      <td>48481</td>\n",
       "      <td>Daomu Biji Zhi Qinling Shen Shu</td>\n",
       "      <td>Unknown</td>\n",
       "      <td>Adventure, Mystery, Supernatural</td>\n",
       "      <td>Unknown</td>\n",
       "      <td>盗墓笔记之秦岭神树</td>\n",
       "      <td>ONA</td>\n",
       "      <td>Unknown</td>\n",
       "      <td>Apr 4, 2021 to ?</td>\n",
       "      <td>Unknown</td>\n",
       "      <td>...</td>\n",
       "      <td>Unknown</td>\n",
       "      <td>Unknown</td>\n",
       "      <td>Unknown</td>\n",
       "      <td>1.0</td>\n",
       "      <td>Unknown</td>\n",
       "      <td>Unknown</td>\n",
       "      <td>Unknown</td>\n",
       "      <td>Unknown</td>\n",
       "      <td>Unknown</td>\n",
       "      <td>Unknown</td>\n",
       "    </tr>\n",
       "    <tr>\n",
       "      <th>17558</th>\n",
       "      <td>48483</td>\n",
       "      <td>Mieruko-chan</td>\n",
       "      <td>Unknown</td>\n",
       "      <td>Comedy, Horror, Supernatural</td>\n",
       "      <td>Unknown</td>\n",
       "      <td>見える子ちゃん</td>\n",
       "      <td>TV</td>\n",
       "      <td>Unknown</td>\n",
       "      <td>2021 to ?</td>\n",
       "      <td>Unknown</td>\n",
       "      <td>...</td>\n",
       "      <td>Unknown</td>\n",
       "      <td>Unknown</td>\n",
       "      <td>Unknown</td>\n",
       "      <td>Unknown</td>\n",
       "      <td>Unknown</td>\n",
       "      <td>Unknown</td>\n",
       "      <td>Unknown</td>\n",
       "      <td>Unknown</td>\n",
       "      <td>Unknown</td>\n",
       "      <td>Unknown</td>\n",
       "    </tr>\n",
       "    <tr>\n",
       "      <th>17559</th>\n",
       "      <td>48488</td>\n",
       "      <td>Higurashi no Naku Koro ni Sotsu</td>\n",
       "      <td>Unknown</td>\n",
       "      <td>Mystery, Dementia, Horror, Psychological, Supe...</td>\n",
       "      <td>Higurashi:When They Cry – SOTSU</td>\n",
       "      <td>ひぐらしのなく頃に卒</td>\n",
       "      <td>TV</td>\n",
       "      <td>Unknown</td>\n",
       "      <td>Jul, 2021 to ?</td>\n",
       "      <td>Summer 2021</td>\n",
       "      <td>...</td>\n",
       "      <td>1.0</td>\n",
       "      <td>Unknown</td>\n",
       "      <td>Unknown</td>\n",
       "      <td>Unknown</td>\n",
       "      <td>Unknown</td>\n",
       "      <td>Unknown</td>\n",
       "      <td>Unknown</td>\n",
       "      <td>Unknown</td>\n",
       "      <td>Unknown</td>\n",
       "      <td>Unknown</td>\n",
       "    </tr>\n",
       "    <tr>\n",
       "      <th>17560</th>\n",
       "      <td>48491</td>\n",
       "      <td>Yama no Susume: Next Summit</td>\n",
       "      <td>Unknown</td>\n",
       "      <td>Adventure, Slice of Life, Comedy</td>\n",
       "      <td>Unknown</td>\n",
       "      <td>ヤマノススメ Next Summit</td>\n",
       "      <td>TV</td>\n",
       "      <td>Unknown</td>\n",
       "      <td>Unknown</td>\n",
       "      <td>Unknown</td>\n",
       "      <td>...</td>\n",
       "      <td>Unknown</td>\n",
       "      <td>Unknown</td>\n",
       "      <td>Unknown</td>\n",
       "      <td>Unknown</td>\n",
       "      <td>Unknown</td>\n",
       "      <td>Unknown</td>\n",
       "      <td>Unknown</td>\n",
       "      <td>Unknown</td>\n",
       "      <td>Unknown</td>\n",
       "      <td>Unknown</td>\n",
       "    </tr>\n",
       "    <tr>\n",
       "      <th>17561</th>\n",
       "      <td>48492</td>\n",
       "      <td>Scarlet Nexus</td>\n",
       "      <td>Unknown</td>\n",
       "      <td>Action, Fantasy</td>\n",
       "      <td>Unknown</td>\n",
       "      <td>SCARLET NEXUS</td>\n",
       "      <td>TV</td>\n",
       "      <td>Unknown</td>\n",
       "      <td>Jul, 2021 to ?</td>\n",
       "      <td>Summer 2021</td>\n",
       "      <td>...</td>\n",
       "      <td>Unknown</td>\n",
       "      <td>Unknown</td>\n",
       "      <td>Unknown</td>\n",
       "      <td>Unknown</td>\n",
       "      <td>Unknown</td>\n",
       "      <td>Unknown</td>\n",
       "      <td>Unknown</td>\n",
       "      <td>Unknown</td>\n",
       "      <td>Unknown</td>\n",
       "      <td>Unknown</td>\n",
       "    </tr>\n",
       "  </tbody>\n",
       "</table>\n",
       "<p>17562 rows × 35 columns</p>\n",
       "</div>"
      ],
      "text/plain": [
       "       MAL_ID                             Name    Score  \\\n",
       "0           1                     Cowboy Bebop     8.78   \n",
       "1           5  Cowboy Bebop: Tengoku no Tobira     8.39   \n",
       "2           6                           Trigun     8.24   \n",
       "3           7               Witch Hunter Robin     7.27   \n",
       "4           8                   Bouken Ou Beet     6.98   \n",
       "...       ...                              ...      ...   \n",
       "17557   48481  Daomu Biji Zhi Qinling Shen Shu  Unknown   \n",
       "17558   48483                     Mieruko-chan  Unknown   \n",
       "17559   48488  Higurashi no Naku Koro ni Sotsu  Unknown   \n",
       "17560   48491      Yama no Susume: Next Summit  Unknown   \n",
       "17561   48492                    Scarlet Nexus  Unknown   \n",
       "\n",
       "                                                  Genres  \\\n",
       "0        Action, Adventure, Comedy, Drama, Sci-Fi, Space   \n",
       "1                  Action, Drama, Mystery, Sci-Fi, Space   \n",
       "2      Action, Sci-Fi, Adventure, Comedy, Drama, Shounen   \n",
       "3      Action, Mystery, Police, Supernatural, Drama, ...   \n",
       "4              Adventure, Fantasy, Shounen, Supernatural   \n",
       "...                                                  ...   \n",
       "17557                   Adventure, Mystery, Supernatural   \n",
       "17558                       Comedy, Horror, Supernatural   \n",
       "17559  Mystery, Dementia, Horror, Psychological, Supe...   \n",
       "17560                   Adventure, Slice of Life, Comedy   \n",
       "17561                                    Action, Fantasy   \n",
       "\n",
       "                          English name                     Japanese name  \\\n",
       "0                         Cowboy Bebop                         カウボーイビバップ   \n",
       "1               Cowboy Bebop:The Movie                    カウボーイビバップ 天国の扉   \n",
       "2                               Trigun                             トライガン   \n",
       "3                   Witch Hunter Robin  Witch Hunter ROBIN (ウイッチハンターロビン)   \n",
       "4               Beet the Vandel Buster                            冒険王ビィト   \n",
       "...                                ...                               ...   \n",
       "17557                          Unknown                         盗墓笔记之秦岭神树   \n",
       "17558                          Unknown                           見える子ちゃん   \n",
       "17559  Higurashi:When They Cry – SOTSU                        ひぐらしのなく頃に卒   \n",
       "17560                          Unknown                ヤマノススメ Next Summit   \n",
       "17561                          Unknown                     SCARLET NEXUS   \n",
       "\n",
       "        Type Episodes                         Aired    Premiered  ...  \\\n",
       "0         TV       26   Apr 3, 1998 to Apr 24, 1999  Spring 1998  ...   \n",
       "1      Movie        1                   Sep 1, 2001      Unknown  ...   \n",
       "2         TV       26   Apr 1, 1998 to Sep 30, 1998  Spring 1998  ...   \n",
       "3         TV       26   Jul 2, 2002 to Dec 24, 2002  Summer 2002  ...   \n",
       "4         TV       52  Sep 30, 2004 to Sep 29, 2005    Fall 2004  ...   \n",
       "...      ...      ...                           ...          ...  ...   \n",
       "17557    ONA  Unknown              Apr 4, 2021 to ?      Unknown  ...   \n",
       "17558     TV  Unknown                     2021 to ?      Unknown  ...   \n",
       "17559     TV  Unknown                Jul, 2021 to ?  Summer 2021  ...   \n",
       "17560     TV  Unknown                       Unknown      Unknown  ...   \n",
       "17561     TV  Unknown                Jul, 2021 to ?  Summer 2021  ...   \n",
       "\n",
       "       Score-10   Score-9   Score-8  Score-7  Score-6  Score-5  Score-4  \\\n",
       "0      229170.0  182126.0  131625.0  62330.0  20688.0   8904.0   3184.0   \n",
       "1       30043.0   49201.0   49505.0  22632.0   5805.0   1877.0    577.0   \n",
       "2       50229.0   75651.0   86142.0  49432.0  15376.0   5838.0   1965.0   \n",
       "3        2182.0    4806.0   10128.0  11618.0   5709.0   2920.0   1083.0   \n",
       "4         312.0     529.0    1242.0   1713.0   1068.0    634.0    265.0   \n",
       "...         ...       ...       ...      ...      ...      ...      ...   \n",
       "17557   Unknown   Unknown   Unknown      1.0  Unknown  Unknown  Unknown   \n",
       "17558   Unknown   Unknown   Unknown  Unknown  Unknown  Unknown  Unknown   \n",
       "17559       1.0   Unknown   Unknown  Unknown  Unknown  Unknown  Unknown   \n",
       "17560   Unknown   Unknown   Unknown  Unknown  Unknown  Unknown  Unknown   \n",
       "17561   Unknown   Unknown   Unknown  Unknown  Unknown  Unknown  Unknown   \n",
       "\n",
       "       Score-3  Score-2  Score-1  \n",
       "0       1357.0    741.0   1580.0  \n",
       "1        221.0    109.0    379.0  \n",
       "2        664.0    316.0    533.0  \n",
       "3        353.0    164.0    131.0  \n",
       "4         83.0     50.0     27.0  \n",
       "...        ...      ...      ...  \n",
       "17557  Unknown  Unknown  Unknown  \n",
       "17558  Unknown  Unknown  Unknown  \n",
       "17559  Unknown  Unknown  Unknown  \n",
       "17560  Unknown  Unknown  Unknown  \n",
       "17561  Unknown  Unknown  Unknown  \n",
       "\n",
       "[17562 rows x 35 columns]"
      ]
     },
     "execution_count": 8,
     "metadata": {},
     "output_type": "execute_result"
    }
   ],
   "source": [
    "df_anime=pd.read_csv(r\"C:\\Users\\hp\\Desktop\\PythonCoding\\Excel-Projects\\anime.csv\")\n",
    "df_anime"
   ]
  },
  {
   "cell_type": "code",
   "execution_count": null,
   "metadata": {},
   "outputs": [
    {
     "name": "stdout",
     "output_type": "stream",
     "text": [
      "<class 'pandas.core.frame.DataFrame'>\n",
      "RangeIndex: 17562 entries, 0 to 17561\n",
      "Data columns (total 35 columns):\n",
      " #   Column         Non-Null Count  Dtype \n",
      "---  ------         --------------  ----- \n",
      " 0   MAL_ID         17562 non-null  int64 \n",
      " 1   Name           17562 non-null  object\n",
      " 2   Score          17562 non-null  object\n",
      " 3   Genres         17562 non-null  object\n",
      " 4   English name   17562 non-null  object\n",
      " 5   Japanese name  17562 non-null  object\n",
      " 6   Type           17562 non-null  object\n",
      " 7   Episodes       17562 non-null  object\n",
      " 8   Aired          17562 non-null  object\n",
      " 9   Premiered      17562 non-null  object\n",
      " 10  Producers      17562 non-null  object\n",
      " 11  Licensors      17562 non-null  object\n",
      " 12  Studios        17562 non-null  object\n",
      " 13  Source         17562 non-null  object\n",
      " 14  Duration       17562 non-null  object\n",
      " 15  Rating         17562 non-null  object\n",
      " 16  Ranked         17562 non-null  object\n",
      " 17  Popularity     17562 non-null  int64 \n",
      " 18  Members        17562 non-null  int64 \n",
      " 19  Favorites      17562 non-null  int64 \n",
      " 20  Watching       17562 non-null  int64 \n",
      " 21  Completed      17562 non-null  int64 \n",
      " 22  On-Hold        17562 non-null  int64 \n",
      " 23  Dropped        17562 non-null  int64 \n",
      " 24  Plan to Watch  17562 non-null  int64 \n",
      " 25  Score-10       17562 non-null  object\n",
      " 26  Score-9        17562 non-null  object\n",
      " 27  Score-8        17562 non-null  object\n",
      " 28  Score-7        17562 non-null  object\n",
      " 29  Score-6        17562 non-null  object\n",
      " 30  Score-5        17562 non-null  object\n",
      " 31  Score-4        17562 non-null  object\n",
      " 32  Score-3        17562 non-null  object\n",
      " 33  Score-2        17562 non-null  object\n",
      " 34  Score-1        17562 non-null  object\n",
      "dtypes: int64(9), object(26)\n",
      "memory usage: 4.7+ MB\n"
     ]
    }
   ],
   "source": [
    "df_anime.info()"
   ]
  },
  {
   "cell_type": "code",
   "execution_count": null,
   "metadata": {},
   "outputs": [],
   "source": [
    "#object data-str or mixed"
   ]
  },
  {
   "cell_type": "code",
   "execution_count": null,
   "metadata": {},
   "outputs": [],
   "source": [
    "# Data Cleaning and Data Transformation"
   ]
  },
  {
   "cell_type": "code",
   "execution_count": null,
   "metadata": {},
   "outputs": [],
   "source": [
    "#We are going to clean the columns ‘Aired’, ‘Premiered’ and ‘Duration’ to create new columns with more useful information for analysis."
   ]
  },
  {
   "cell_type": "markdown",
   "metadata": {},
   "source": [
    "I will create the column called \"Start year\", where will be the year where the anime was released"
   ]
  },
  {
   "cell_type": "code",
   "execution_count": null,
   "metadata": {},
   "outputs": [],
   "source": [
    "df_anime['Start year'] = df_anime['Aired'].apply(lambda x : x.split('to')[0]).apply(\n",
    "                          lambda x : x.split(',')).apply(\n",
    "                          lambda x : x[1] if len(x) > 1 else x[0] ).apply(\n",
    "                          lambda x : x.replace(' ', ''))"
   ]
  },
  {
   "cell_type": "markdown",
   "metadata": {},
   "source": [
    "I will create the column called \"Anime season\", where are the variables: fall, winter, spring, summer. What is the time when the new anime come out"
   ]
  },
  {
   "cell_type": "code",
   "execution_count": null,
   "metadata": {},
   "outputs": [],
   "source": [
    "df_anime['Anime season'] = df_anime['Premiered'].apply(lambda x : x.split(' ')[0])"
   ]
  },
  {
   "cell_type": "markdown",
   "metadata": {},
   "source": [
    "I will create a column called \"Duration in minutes\", where are the number of minutes that the anime lasted"
   ]
  },
  {
   "cell_type": "code",
   "execution_count": null,
   "metadata": {},
   "outputs": [],
   "source": [
    "df_anime['Duration in minutes'] = df_anime['Duration'].apply(lambda x : x.split(' ')).apply(lambda x : x[0] if len(x) <= 1 else \n",
    "        (x[0] if x[1] == 'min.' else\n",
    "        (int(x[0]) / 60 if x[1] == 'sec.' else \n",
    "        (int(x[0]) * 60 if x[1] == 'hr.' and len(x) < 3 else\n",
    "        (int(x[0]) * 60 + int(x[2]) if x[1] == 'hr.' and x[2] != 'per' else \n",
    "         int(x[0]) * 60  )))))"
   ]
  },
  {
   "cell_type": "code",
   "execution_count": null,
   "metadata": {},
   "outputs": [],
   "source": [
    "##DATA TRANSFORMATION"
   ]
  },
  {
   "cell_type": "code",
   "execution_count": null,
   "metadata": {},
   "outputs": [],
   "source": [
    "#We will eliminate the columns that will not serve us for this exploratory analysis \n",
    "df_anime.drop(['MAL_ID','Name' , 'English name' , 'Japanese name' , 'Aired', 'Members','Premiered', 'Favorites', \n",
    "               'Duration','Watching', 'Completed', 'On-Hold', 'Dropped', 'Ranked', 'Popularity',\n",
    "       'Plan to Watch', 'Score-10', 'Score-9', 'Score-8', 'Score-7', 'Score-6',\n",
    "       'Score-5', 'Score-4', 'Score-3', 'Score-2', 'Score-1'] , axis = 1 , inplace = True)"
   ]
  },
  {
   "cell_type": "code",
   "execution_count": null,
   "metadata": {},
   "outputs": [
    {
     "data": {
      "text/html": [
       "<div>\n",
       "<style scoped>\n",
       "    .dataframe tbody tr th:only-of-type {\n",
       "        vertical-align: middle;\n",
       "    }\n",
       "\n",
       "    .dataframe tbody tr th {\n",
       "        vertical-align: top;\n",
       "    }\n",
       "\n",
       "    .dataframe thead th {\n",
       "        text-align: right;\n",
       "    }\n",
       "</style>\n",
       "<table border=\"1\" class=\"dataframe\">\n",
       "  <thead>\n",
       "    <tr style=\"text-align: right;\">\n",
       "      <th></th>\n",
       "      <th>Score</th>\n",
       "      <th>Genres</th>\n",
       "      <th>Type</th>\n",
       "      <th>Episodes</th>\n",
       "      <th>Producers</th>\n",
       "      <th>Licensors</th>\n",
       "      <th>Studios</th>\n",
       "      <th>Source</th>\n",
       "      <th>Rating</th>\n",
       "      <th>Start year</th>\n",
       "      <th>Anime season</th>\n",
       "      <th>Duration in minutes</th>\n",
       "    </tr>\n",
       "  </thead>\n",
       "  <tbody>\n",
       "    <tr>\n",
       "      <th>0</th>\n",
       "      <td>8.78</td>\n",
       "      <td>Action, Adventure, Comedy, Drama, Sci-Fi, Space</td>\n",
       "      <td>TV</td>\n",
       "      <td>26</td>\n",
       "      <td>Bandai Visual</td>\n",
       "      <td>Funimation, Bandai Entertainment</td>\n",
       "      <td>Sunrise</td>\n",
       "      <td>Original</td>\n",
       "      <td>R - 17+ (violence &amp; profanity)</td>\n",
       "      <td>1998</td>\n",
       "      <td>Spring</td>\n",
       "      <td>24</td>\n",
       "    </tr>\n",
       "    <tr>\n",
       "      <th>1</th>\n",
       "      <td>8.39</td>\n",
       "      <td>Action, Drama, Mystery, Sci-Fi, Space</td>\n",
       "      <td>Movie</td>\n",
       "      <td>1</td>\n",
       "      <td>Sunrise, Bandai Visual</td>\n",
       "      <td>Sony Pictures Entertainment</td>\n",
       "      <td>Bones</td>\n",
       "      <td>Original</td>\n",
       "      <td>R - 17+ (violence &amp; profanity)</td>\n",
       "      <td>2001</td>\n",
       "      <td>Unknown</td>\n",
       "      <td>115</td>\n",
       "    </tr>\n",
       "    <tr>\n",
       "      <th>2</th>\n",
       "      <td>8.24</td>\n",
       "      <td>Action, Sci-Fi, Adventure, Comedy, Drama, Shounen</td>\n",
       "      <td>TV</td>\n",
       "      <td>26</td>\n",
       "      <td>Victor Entertainment</td>\n",
       "      <td>Funimation, Geneon Entertainment USA</td>\n",
       "      <td>Madhouse</td>\n",
       "      <td>Manga</td>\n",
       "      <td>PG-13 - Teens 13 or older</td>\n",
       "      <td>1998</td>\n",
       "      <td>Spring</td>\n",
       "      <td>24</td>\n",
       "    </tr>\n",
       "    <tr>\n",
       "      <th>3</th>\n",
       "      <td>7.27</td>\n",
       "      <td>Action, Mystery, Police, Supernatural, Drama, ...</td>\n",
       "      <td>TV</td>\n",
       "      <td>26</td>\n",
       "      <td>TV Tokyo, Bandai Visual, Dentsu, Victor Entert...</td>\n",
       "      <td>Funimation, Bandai Entertainment</td>\n",
       "      <td>Sunrise</td>\n",
       "      <td>Original</td>\n",
       "      <td>PG-13 - Teens 13 or older</td>\n",
       "      <td>2002</td>\n",
       "      <td>Summer</td>\n",
       "      <td>25</td>\n",
       "    </tr>\n",
       "    <tr>\n",
       "      <th>4</th>\n",
       "      <td>6.98</td>\n",
       "      <td>Adventure, Fantasy, Shounen, Supernatural</td>\n",
       "      <td>TV</td>\n",
       "      <td>52</td>\n",
       "      <td>TV Tokyo, Dentsu</td>\n",
       "      <td>Unknown</td>\n",
       "      <td>Toei Animation</td>\n",
       "      <td>Manga</td>\n",
       "      <td>PG - Children</td>\n",
       "      <td>2004</td>\n",
       "      <td>Fall</td>\n",
       "      <td>23</td>\n",
       "    </tr>\n",
       "    <tr>\n",
       "      <th>...</th>\n",
       "      <td>...</td>\n",
       "      <td>...</td>\n",
       "      <td>...</td>\n",
       "      <td>...</td>\n",
       "      <td>...</td>\n",
       "      <td>...</td>\n",
       "      <td>...</td>\n",
       "      <td>...</td>\n",
       "      <td>...</td>\n",
       "      <td>...</td>\n",
       "      <td>...</td>\n",
       "      <td>...</td>\n",
       "    </tr>\n",
       "    <tr>\n",
       "      <th>17557</th>\n",
       "      <td>Unknown</td>\n",
       "      <td>Adventure, Mystery, Supernatural</td>\n",
       "      <td>ONA</td>\n",
       "      <td>Unknown</td>\n",
       "      <td>Unknown</td>\n",
       "      <td>Unknown</td>\n",
       "      <td>Unknown</td>\n",
       "      <td>Novel</td>\n",
       "      <td>Unknown</td>\n",
       "      <td>2021</td>\n",
       "      <td>Unknown</td>\n",
       "      <td>Unknown</td>\n",
       "    </tr>\n",
       "    <tr>\n",
       "      <th>17558</th>\n",
       "      <td>Unknown</td>\n",
       "      <td>Comedy, Horror, Supernatural</td>\n",
       "      <td>TV</td>\n",
       "      <td>Unknown</td>\n",
       "      <td>Kadokawa</td>\n",
       "      <td>Unknown</td>\n",
       "      <td>Passione</td>\n",
       "      <td>Manga</td>\n",
       "      <td>Unknown</td>\n",
       "      <td>2021</td>\n",
       "      <td>Unknown</td>\n",
       "      <td>Unknown</td>\n",
       "    </tr>\n",
       "    <tr>\n",
       "      <th>17559</th>\n",
       "      <td>Unknown</td>\n",
       "      <td>Mystery, Dementia, Horror, Psychological, Supe...</td>\n",
       "      <td>TV</td>\n",
       "      <td>Unknown</td>\n",
       "      <td>Unknown</td>\n",
       "      <td>Unknown</td>\n",
       "      <td>Unknown</td>\n",
       "      <td>Visual novel</td>\n",
       "      <td>R - 17+ (violence &amp; profanity)</td>\n",
       "      <td>2021</td>\n",
       "      <td>Summer</td>\n",
       "      <td>Unknown</td>\n",
       "    </tr>\n",
       "    <tr>\n",
       "      <th>17560</th>\n",
       "      <td>Unknown</td>\n",
       "      <td>Adventure, Slice of Life, Comedy</td>\n",
       "      <td>TV</td>\n",
       "      <td>Unknown</td>\n",
       "      <td>Kadokawa</td>\n",
       "      <td>Unknown</td>\n",
       "      <td>8bit</td>\n",
       "      <td>Manga</td>\n",
       "      <td>PG-13 - Teens 13 or older</td>\n",
       "      <td>Unknown</td>\n",
       "      <td>Unknown</td>\n",
       "      <td>Unknown</td>\n",
       "    </tr>\n",
       "    <tr>\n",
       "      <th>17561</th>\n",
       "      <td>Unknown</td>\n",
       "      <td>Action, Fantasy</td>\n",
       "      <td>TV</td>\n",
       "      <td>Unknown</td>\n",
       "      <td>Bandai Namco Arts</td>\n",
       "      <td>Unknown</td>\n",
       "      <td>Sunrise</td>\n",
       "      <td>Game</td>\n",
       "      <td>Unknown</td>\n",
       "      <td>2021</td>\n",
       "      <td>Summer</td>\n",
       "      <td>Unknown</td>\n",
       "    </tr>\n",
       "  </tbody>\n",
       "</table>\n",
       "<p>17562 rows × 12 columns</p>\n",
       "</div>"
      ],
      "text/plain": [
       "         Score                                             Genres   Type  \\\n",
       "0         8.78    Action, Adventure, Comedy, Drama, Sci-Fi, Space     TV   \n",
       "1         8.39              Action, Drama, Mystery, Sci-Fi, Space  Movie   \n",
       "2         8.24  Action, Sci-Fi, Adventure, Comedy, Drama, Shounen     TV   \n",
       "3         7.27  Action, Mystery, Police, Supernatural, Drama, ...     TV   \n",
       "4         6.98          Adventure, Fantasy, Shounen, Supernatural     TV   \n",
       "...        ...                                                ...    ...   \n",
       "17557  Unknown                   Adventure, Mystery, Supernatural    ONA   \n",
       "17558  Unknown                       Comedy, Horror, Supernatural     TV   \n",
       "17559  Unknown  Mystery, Dementia, Horror, Psychological, Supe...     TV   \n",
       "17560  Unknown                   Adventure, Slice of Life, Comedy     TV   \n",
       "17561  Unknown                                    Action, Fantasy     TV   \n",
       "\n",
       "      Episodes                                          Producers  \\\n",
       "0           26                                      Bandai Visual   \n",
       "1            1                             Sunrise, Bandai Visual   \n",
       "2           26                               Victor Entertainment   \n",
       "3           26  TV Tokyo, Bandai Visual, Dentsu, Victor Entert...   \n",
       "4           52                                   TV Tokyo, Dentsu   \n",
       "...        ...                                                ...   \n",
       "17557  Unknown                                            Unknown   \n",
       "17558  Unknown                                           Kadokawa   \n",
       "17559  Unknown                                            Unknown   \n",
       "17560  Unknown                                           Kadokawa   \n",
       "17561  Unknown                                  Bandai Namco Arts   \n",
       "\n",
       "                                  Licensors         Studios        Source  \\\n",
       "0          Funimation, Bandai Entertainment         Sunrise      Original   \n",
       "1               Sony Pictures Entertainment           Bones      Original   \n",
       "2      Funimation, Geneon Entertainment USA        Madhouse         Manga   \n",
       "3          Funimation, Bandai Entertainment         Sunrise      Original   \n",
       "4                                   Unknown  Toei Animation         Manga   \n",
       "...                                     ...             ...           ...   \n",
       "17557                               Unknown         Unknown         Novel   \n",
       "17558                               Unknown        Passione         Manga   \n",
       "17559                               Unknown         Unknown  Visual novel   \n",
       "17560                               Unknown            8bit         Manga   \n",
       "17561                               Unknown         Sunrise          Game   \n",
       "\n",
       "                               Rating Start year Anime season  \\\n",
       "0      R - 17+ (violence & profanity)       1998       Spring   \n",
       "1      R - 17+ (violence & profanity)       2001      Unknown   \n",
       "2           PG-13 - Teens 13 or older       1998       Spring   \n",
       "3           PG-13 - Teens 13 or older       2002       Summer   \n",
       "4                       PG - Children       2004         Fall   \n",
       "...                               ...        ...          ...   \n",
       "17557                         Unknown       2021      Unknown   \n",
       "17558                         Unknown       2021      Unknown   \n",
       "17559  R - 17+ (violence & profanity)       2021       Summer   \n",
       "17560       PG-13 - Teens 13 or older    Unknown      Unknown   \n",
       "17561                         Unknown       2021       Summer   \n",
       "\n",
       "      Duration in minutes  \n",
       "0                      24  \n",
       "1                     115  \n",
       "2                      24  \n",
       "3                      25  \n",
       "4                      23  \n",
       "...                   ...  \n",
       "17557             Unknown  \n",
       "17558             Unknown  \n",
       "17559             Unknown  \n",
       "17560             Unknown  \n",
       "17561             Unknown  \n",
       "\n",
       "[17562 rows x 12 columns]"
      ]
     },
     "execution_count": 18,
     "metadata": {},
     "output_type": "execute_result"
    }
   ],
   "source": [
    "df_anime"
   ]
  },
  {
   "cell_type": "code",
   "execution_count": null,
   "metadata": {},
   "outputs": [],
   "source": [
    "#We will eliminate the rows that have a score as \"Unknown\" because they may be animes that have just been released or because it was not valued\n",
    "index_name_eliminate = df_anime[df_anime['Score'] == 'Unknown'].index\n",
    "\n",
    "df_anime.drop(index_name_eliminate , inplace = True)"
   ]
  },
  {
   "cell_type": "code",
   "execution_count": null,
   "metadata": {},
   "outputs": [
    {
     "data": {
      "text/html": [
       "<div>\n",
       "<style scoped>\n",
       "    .dataframe tbody tr th:only-of-type {\n",
       "        vertical-align: middle;\n",
       "    }\n",
       "\n",
       "    .dataframe tbody tr th {\n",
       "        vertical-align: top;\n",
       "    }\n",
       "\n",
       "    .dataframe thead th {\n",
       "        text-align: right;\n",
       "    }\n",
       "</style>\n",
       "<table border=\"1\" class=\"dataframe\">\n",
       "  <thead>\n",
       "    <tr style=\"text-align: right;\">\n",
       "      <th></th>\n",
       "      <th>Score</th>\n",
       "      <th>Genres</th>\n",
       "      <th>Type</th>\n",
       "      <th>Episodes</th>\n",
       "      <th>Producers</th>\n",
       "      <th>Licensors</th>\n",
       "      <th>Studios</th>\n",
       "      <th>Source</th>\n",
       "      <th>Rating</th>\n",
       "      <th>Start year</th>\n",
       "      <th>Anime season</th>\n",
       "      <th>Duration in minutes</th>\n",
       "    </tr>\n",
       "  </thead>\n",
       "  <tbody>\n",
       "    <tr>\n",
       "      <th>0</th>\n",
       "      <td>8.78</td>\n",
       "      <td>Action, Adventure, Comedy, Drama, Sci-Fi, Space</td>\n",
       "      <td>TV</td>\n",
       "      <td>26</td>\n",
       "      <td>Bandai Visual</td>\n",
       "      <td>Funimation, Bandai Entertainment</td>\n",
       "      <td>Sunrise</td>\n",
       "      <td>Original</td>\n",
       "      <td>R - 17+ (violence &amp; profanity)</td>\n",
       "      <td>1998</td>\n",
       "      <td>Spring</td>\n",
       "      <td>24</td>\n",
       "    </tr>\n",
       "    <tr>\n",
       "      <th>1</th>\n",
       "      <td>8.39</td>\n",
       "      <td>Action, Drama, Mystery, Sci-Fi, Space</td>\n",
       "      <td>Movie</td>\n",
       "      <td>1</td>\n",
       "      <td>Sunrise, Bandai Visual</td>\n",
       "      <td>Sony Pictures Entertainment</td>\n",
       "      <td>Bones</td>\n",
       "      <td>Original</td>\n",
       "      <td>R - 17+ (violence &amp; profanity)</td>\n",
       "      <td>2001</td>\n",
       "      <td>Unknown</td>\n",
       "      <td>115</td>\n",
       "    </tr>\n",
       "    <tr>\n",
       "      <th>2</th>\n",
       "      <td>8.24</td>\n",
       "      <td>Action, Sci-Fi, Adventure, Comedy, Drama, Shounen</td>\n",
       "      <td>TV</td>\n",
       "      <td>26</td>\n",
       "      <td>Victor Entertainment</td>\n",
       "      <td>Funimation, Geneon Entertainment USA</td>\n",
       "      <td>Madhouse</td>\n",
       "      <td>Manga</td>\n",
       "      <td>PG-13 - Teens 13 or older</td>\n",
       "      <td>1998</td>\n",
       "      <td>Spring</td>\n",
       "      <td>24</td>\n",
       "    </tr>\n",
       "    <tr>\n",
       "      <th>3</th>\n",
       "      <td>7.27</td>\n",
       "      <td>Action, Mystery, Police, Supernatural, Drama, ...</td>\n",
       "      <td>TV</td>\n",
       "      <td>26</td>\n",
       "      <td>TV Tokyo, Bandai Visual, Dentsu, Victor Entert...</td>\n",
       "      <td>Funimation, Bandai Entertainment</td>\n",
       "      <td>Sunrise</td>\n",
       "      <td>Original</td>\n",
       "      <td>PG-13 - Teens 13 or older</td>\n",
       "      <td>2002</td>\n",
       "      <td>Summer</td>\n",
       "      <td>25</td>\n",
       "    </tr>\n",
       "    <tr>\n",
       "      <th>4</th>\n",
       "      <td>6.98</td>\n",
       "      <td>Adventure, Fantasy, Shounen, Supernatural</td>\n",
       "      <td>TV</td>\n",
       "      <td>52</td>\n",
       "      <td>TV Tokyo, Dentsu</td>\n",
       "      <td>Unknown</td>\n",
       "      <td>Toei Animation</td>\n",
       "      <td>Manga</td>\n",
       "      <td>PG - Children</td>\n",
       "      <td>2004</td>\n",
       "      <td>Fall</td>\n",
       "      <td>23</td>\n",
       "    </tr>\n",
       "    <tr>\n",
       "      <th>...</th>\n",
       "      <td>...</td>\n",
       "      <td>...</td>\n",
       "      <td>...</td>\n",
       "      <td>...</td>\n",
       "      <td>...</td>\n",
       "      <td>...</td>\n",
       "      <td>...</td>\n",
       "      <td>...</td>\n",
       "      <td>...</td>\n",
       "      <td>...</td>\n",
       "      <td>...</td>\n",
       "      <td>...</td>\n",
       "    </tr>\n",
       "    <tr>\n",
       "      <th>17504</th>\n",
       "      <td>6.59</td>\n",
       "      <td>Comedy</td>\n",
       "      <td>ONA</td>\n",
       "      <td>4</td>\n",
       "      <td>Unknown</td>\n",
       "      <td>Unknown</td>\n",
       "      <td>Unknown</td>\n",
       "      <td>Original</td>\n",
       "      <td>PG-13 - Teens 13 or older</td>\n",
       "      <td>2021</td>\n",
       "      <td>Unknown</td>\n",
       "      <td>Unknown</td>\n",
       "    </tr>\n",
       "    <tr>\n",
       "      <th>17505</th>\n",
       "      <td>7.52</td>\n",
       "      <td>Music, Romance</td>\n",
       "      <td>Music</td>\n",
       "      <td>1</td>\n",
       "      <td>Unknown</td>\n",
       "      <td>Unknown</td>\n",
       "      <td>10Gauge, Studio DURIAN</td>\n",
       "      <td>Original</td>\n",
       "      <td>G - All Ages</td>\n",
       "      <td>2021</td>\n",
       "      <td>Unknown</td>\n",
       "      <td>4</td>\n",
       "    </tr>\n",
       "    <tr>\n",
       "      <th>17512</th>\n",
       "      <td>6.83</td>\n",
       "      <td>Slice of Life, Comedy</td>\n",
       "      <td>Special</td>\n",
       "      <td>1</td>\n",
       "      <td>Unknown</td>\n",
       "      <td>Unknown</td>\n",
       "      <td>Unknown</td>\n",
       "      <td>Game</td>\n",
       "      <td>PG - Children</td>\n",
       "      <td>2021</td>\n",
       "      <td>Unknown</td>\n",
       "      <td>10</td>\n",
       "    </tr>\n",
       "    <tr>\n",
       "      <th>17513</th>\n",
       "      <td>4.81</td>\n",
       "      <td>Mystery, Psychological, Supernatural, Thriller...</td>\n",
       "      <td>Special</td>\n",
       "      <td>1</td>\n",
       "      <td>Unknown</td>\n",
       "      <td>Unknown</td>\n",
       "      <td>CloverWorks</td>\n",
       "      <td>Manga</td>\n",
       "      <td>R - 17+ (violence &amp; profanity)</td>\n",
       "      <td>2021</td>\n",
       "      <td>Unknown</td>\n",
       "      <td>23</td>\n",
       "    </tr>\n",
       "    <tr>\n",
       "      <th>17552</th>\n",
       "      <td>6.52</td>\n",
       "      <td>Comedy, Sports</td>\n",
       "      <td>Special</td>\n",
       "      <td>1</td>\n",
       "      <td>Aniplex, Movic, ABC Animation</td>\n",
       "      <td>Unknown</td>\n",
       "      <td>Bones</td>\n",
       "      <td>Original</td>\n",
       "      <td>PG-13 - Teens 13 or older</td>\n",
       "      <td>2021</td>\n",
       "      <td>Unknown</td>\n",
       "      <td>23</td>\n",
       "    </tr>\n",
       "  </tbody>\n",
       "</table>\n",
       "<p>12421 rows × 12 columns</p>\n",
       "</div>"
      ],
      "text/plain": [
       "      Score                                             Genres     Type  \\\n",
       "0      8.78    Action, Adventure, Comedy, Drama, Sci-Fi, Space       TV   \n",
       "1      8.39              Action, Drama, Mystery, Sci-Fi, Space    Movie   \n",
       "2      8.24  Action, Sci-Fi, Adventure, Comedy, Drama, Shounen       TV   \n",
       "3      7.27  Action, Mystery, Police, Supernatural, Drama, ...       TV   \n",
       "4      6.98          Adventure, Fantasy, Shounen, Supernatural       TV   \n",
       "...     ...                                                ...      ...   \n",
       "17504  6.59                                             Comedy      ONA   \n",
       "17505  7.52                                     Music, Romance    Music   \n",
       "17512  6.83                              Slice of Life, Comedy  Special   \n",
       "17513  4.81  Mystery, Psychological, Supernatural, Thriller...  Special   \n",
       "17552  6.52                                     Comedy, Sports  Special   \n",
       "\n",
       "      Episodes                                          Producers  \\\n",
       "0           26                                      Bandai Visual   \n",
       "1            1                             Sunrise, Bandai Visual   \n",
       "2           26                               Victor Entertainment   \n",
       "3           26  TV Tokyo, Bandai Visual, Dentsu, Victor Entert...   \n",
       "4           52                                   TV Tokyo, Dentsu   \n",
       "...        ...                                                ...   \n",
       "17504        4                                            Unknown   \n",
       "17505        1                                            Unknown   \n",
       "17512        1                                            Unknown   \n",
       "17513        1                                            Unknown   \n",
       "17552        1                      Aniplex, Movic, ABC Animation   \n",
       "\n",
       "                                  Licensors                 Studios    Source  \\\n",
       "0          Funimation, Bandai Entertainment                 Sunrise  Original   \n",
       "1               Sony Pictures Entertainment                   Bones  Original   \n",
       "2      Funimation, Geneon Entertainment USA                Madhouse     Manga   \n",
       "3          Funimation, Bandai Entertainment                 Sunrise  Original   \n",
       "4                                   Unknown          Toei Animation     Manga   \n",
       "...                                     ...                     ...       ...   \n",
       "17504                               Unknown                 Unknown  Original   \n",
       "17505                               Unknown  10Gauge, Studio DURIAN  Original   \n",
       "17512                               Unknown                 Unknown      Game   \n",
       "17513                               Unknown             CloverWorks     Manga   \n",
       "17552                               Unknown                   Bones  Original   \n",
       "\n",
       "                               Rating Start year Anime season  \\\n",
       "0      R - 17+ (violence & profanity)       1998       Spring   \n",
       "1      R - 17+ (violence & profanity)       2001      Unknown   \n",
       "2           PG-13 - Teens 13 or older       1998       Spring   \n",
       "3           PG-13 - Teens 13 or older       2002       Summer   \n",
       "4                       PG - Children       2004         Fall   \n",
       "...                               ...        ...          ...   \n",
       "17504       PG-13 - Teens 13 or older       2021      Unknown   \n",
       "17505                    G - All Ages       2021      Unknown   \n",
       "17512                   PG - Children       2021      Unknown   \n",
       "17513  R - 17+ (violence & profanity)       2021      Unknown   \n",
       "17552       PG-13 - Teens 13 or older       2021      Unknown   \n",
       "\n",
       "      Duration in minutes  \n",
       "0                      24  \n",
       "1                     115  \n",
       "2                      24  \n",
       "3                      25  \n",
       "4                      23  \n",
       "...                   ...  \n",
       "17504             Unknown  \n",
       "17505                   4  \n",
       "17512                  10  \n",
       "17513                  23  \n",
       "17552                  23  \n",
       "\n",
       "[12421 rows x 12 columns]"
      ]
     },
     "execution_count": 20,
     "metadata": {},
     "output_type": "execute_result"
    }
   ],
   "source": [
    "df_anime"
   ]
  },
  {
   "cell_type": "code",
   "execution_count": null,
   "metadata": {},
   "outputs": [],
   "source": [
    "#Replace the Unknown variable (which was not a null but an object) to Null\n",
    "df_anime['Start year'] = df_anime['Start year'].replace('Unknown' , '999999999') #99999999999 to know that it is a null value\n",
    "df_anime['Duration in minutes'] = df_anime['Duration in minutes'].replace('Unknown' , np.nan) \n",
    "df_anime['Anime season'] = df_anime['Anime season'].replace('Unknown' , pd.NA)\n",
    "df_anime['Type'] = df_anime['Type'].replace('Unknown' , pd.NA)\n",
    "df_anime['Episodes'] = df_anime['Episodes'].replace('Unknown' , '999999999') #99999999999 to know that it is a null value\n",
    "df_anime['Source'] = df_anime['Source'].replace('Unknown' , pd.NA)\n",
    "df_anime['Rating'] = df_anime['Rating'].replace('Unknown' , pd.NA)"
   ]
  },
  {
   "cell_type": "code",
   "execution_count": null,
   "metadata": {},
   "outputs": [],
   "source": [
    "#The data type where it should be int or float is object , so we change it to int or float , respectively.\n",
    "df_anime.Score = df_anime.Score.astype('float')\n",
    "df_anime['Duration in minutes'] = df_anime['Duration in minutes'].astype('float')\n",
    "df_anime['Episodes'] = df_anime['Episodes'].astype('int')"
   ]
  },
  {
   "cell_type": "code",
   "execution_count": null,
   "metadata": {},
   "outputs": [],
   "source": [
    "#Replace values 99999999999 with pd.NA\n",
    "df_anime['Start year'] = df_anime['Start year'].replace('999999999' , pd.NA)\n",
    "df_anime['Episodes'] = df_anime['Episodes'].replace(999999999 , pd.NA)"
   ]
  },
  {
   "cell_type": "code",
   "execution_count": null,
   "metadata": {},
   "outputs": [
    {
     "data": {
      "text/html": [
       "<div>\n",
       "<style scoped>\n",
       "    .dataframe tbody tr th:only-of-type {\n",
       "        vertical-align: middle;\n",
       "    }\n",
       "\n",
       "    .dataframe tbody tr th {\n",
       "        vertical-align: top;\n",
       "    }\n",
       "\n",
       "    .dataframe thead th {\n",
       "        text-align: right;\n",
       "    }\n",
       "</style>\n",
       "<table border=\"1\" class=\"dataframe\">\n",
       "  <thead>\n",
       "    <tr style=\"text-align: right;\">\n",
       "      <th></th>\n",
       "      <th>Score</th>\n",
       "      <th>Genres</th>\n",
       "      <th>Type</th>\n",
       "      <th>Episodes</th>\n",
       "      <th>Producers</th>\n",
       "      <th>Licensors</th>\n",
       "      <th>Studios</th>\n",
       "      <th>Source</th>\n",
       "      <th>Rating</th>\n",
       "      <th>Start year</th>\n",
       "      <th>Anime season</th>\n",
       "      <th>Duration in minutes</th>\n",
       "    </tr>\n",
       "  </thead>\n",
       "  <tbody>\n",
       "    <tr>\n",
       "      <th>0</th>\n",
       "      <td>8.78</td>\n",
       "      <td>Action, Adventure, Comedy, Drama, Sci-Fi, Space</td>\n",
       "      <td>TV</td>\n",
       "      <td>26</td>\n",
       "      <td>Bandai Visual</td>\n",
       "      <td>Funimation, Bandai Entertainment</td>\n",
       "      <td>Sunrise</td>\n",
       "      <td>Original</td>\n",
       "      <td>R - 17+ (violence &amp; profanity)</td>\n",
       "      <td>1998</td>\n",
       "      <td>Spring</td>\n",
       "      <td>24.0</td>\n",
       "    </tr>\n",
       "    <tr>\n",
       "      <th>1</th>\n",
       "      <td>8.39</td>\n",
       "      <td>Action, Drama, Mystery, Sci-Fi, Space</td>\n",
       "      <td>Movie</td>\n",
       "      <td>1</td>\n",
       "      <td>Sunrise, Bandai Visual</td>\n",
       "      <td>Sony Pictures Entertainment</td>\n",
       "      <td>Bones</td>\n",
       "      <td>Original</td>\n",
       "      <td>R - 17+ (violence &amp; profanity)</td>\n",
       "      <td>2001</td>\n",
       "      <td>&lt;NA&gt;</td>\n",
       "      <td>115.0</td>\n",
       "    </tr>\n",
       "    <tr>\n",
       "      <th>2</th>\n",
       "      <td>8.24</td>\n",
       "      <td>Action, Sci-Fi, Adventure, Comedy, Drama, Shounen</td>\n",
       "      <td>TV</td>\n",
       "      <td>26</td>\n",
       "      <td>Victor Entertainment</td>\n",
       "      <td>Funimation, Geneon Entertainment USA</td>\n",
       "      <td>Madhouse</td>\n",
       "      <td>Manga</td>\n",
       "      <td>PG-13 - Teens 13 or older</td>\n",
       "      <td>1998</td>\n",
       "      <td>Spring</td>\n",
       "      <td>24.0</td>\n",
       "    </tr>\n",
       "    <tr>\n",
       "      <th>3</th>\n",
       "      <td>7.27</td>\n",
       "      <td>Action, Mystery, Police, Supernatural, Drama, ...</td>\n",
       "      <td>TV</td>\n",
       "      <td>26</td>\n",
       "      <td>TV Tokyo, Bandai Visual, Dentsu, Victor Entert...</td>\n",
       "      <td>Funimation, Bandai Entertainment</td>\n",
       "      <td>Sunrise</td>\n",
       "      <td>Original</td>\n",
       "      <td>PG-13 - Teens 13 or older</td>\n",
       "      <td>2002</td>\n",
       "      <td>Summer</td>\n",
       "      <td>25.0</td>\n",
       "    </tr>\n",
       "    <tr>\n",
       "      <th>4</th>\n",
       "      <td>6.98</td>\n",
       "      <td>Adventure, Fantasy, Shounen, Supernatural</td>\n",
       "      <td>TV</td>\n",
       "      <td>52</td>\n",
       "      <td>TV Tokyo, Dentsu</td>\n",
       "      <td>Unknown</td>\n",
       "      <td>Toei Animation</td>\n",
       "      <td>Manga</td>\n",
       "      <td>PG - Children</td>\n",
       "      <td>2004</td>\n",
       "      <td>Fall</td>\n",
       "      <td>23.0</td>\n",
       "    </tr>\n",
       "    <tr>\n",
       "      <th>...</th>\n",
       "      <td>...</td>\n",
       "      <td>...</td>\n",
       "      <td>...</td>\n",
       "      <td>...</td>\n",
       "      <td>...</td>\n",
       "      <td>...</td>\n",
       "      <td>...</td>\n",
       "      <td>...</td>\n",
       "      <td>...</td>\n",
       "      <td>...</td>\n",
       "      <td>...</td>\n",
       "      <td>...</td>\n",
       "    </tr>\n",
       "    <tr>\n",
       "      <th>17504</th>\n",
       "      <td>6.59</td>\n",
       "      <td>Comedy</td>\n",
       "      <td>ONA</td>\n",
       "      <td>4</td>\n",
       "      <td>Unknown</td>\n",
       "      <td>Unknown</td>\n",
       "      <td>Unknown</td>\n",
       "      <td>Original</td>\n",
       "      <td>PG-13 - Teens 13 or older</td>\n",
       "      <td>2021</td>\n",
       "      <td>&lt;NA&gt;</td>\n",
       "      <td>NaN</td>\n",
       "    </tr>\n",
       "    <tr>\n",
       "      <th>17505</th>\n",
       "      <td>7.52</td>\n",
       "      <td>Music, Romance</td>\n",
       "      <td>Music</td>\n",
       "      <td>1</td>\n",
       "      <td>Unknown</td>\n",
       "      <td>Unknown</td>\n",
       "      <td>10Gauge, Studio DURIAN</td>\n",
       "      <td>Original</td>\n",
       "      <td>G - All Ages</td>\n",
       "      <td>2021</td>\n",
       "      <td>&lt;NA&gt;</td>\n",
       "      <td>4.0</td>\n",
       "    </tr>\n",
       "    <tr>\n",
       "      <th>17512</th>\n",
       "      <td>6.83</td>\n",
       "      <td>Slice of Life, Comedy</td>\n",
       "      <td>Special</td>\n",
       "      <td>1</td>\n",
       "      <td>Unknown</td>\n",
       "      <td>Unknown</td>\n",
       "      <td>Unknown</td>\n",
       "      <td>Game</td>\n",
       "      <td>PG - Children</td>\n",
       "      <td>2021</td>\n",
       "      <td>&lt;NA&gt;</td>\n",
       "      <td>10.0</td>\n",
       "    </tr>\n",
       "    <tr>\n",
       "      <th>17513</th>\n",
       "      <td>4.81</td>\n",
       "      <td>Mystery, Psychological, Supernatural, Thriller...</td>\n",
       "      <td>Special</td>\n",
       "      <td>1</td>\n",
       "      <td>Unknown</td>\n",
       "      <td>Unknown</td>\n",
       "      <td>CloverWorks</td>\n",
       "      <td>Manga</td>\n",
       "      <td>R - 17+ (violence &amp; profanity)</td>\n",
       "      <td>2021</td>\n",
       "      <td>&lt;NA&gt;</td>\n",
       "      <td>23.0</td>\n",
       "    </tr>\n",
       "    <tr>\n",
       "      <th>17552</th>\n",
       "      <td>6.52</td>\n",
       "      <td>Comedy, Sports</td>\n",
       "      <td>Special</td>\n",
       "      <td>1</td>\n",
       "      <td>Aniplex, Movic, ABC Animation</td>\n",
       "      <td>Unknown</td>\n",
       "      <td>Bones</td>\n",
       "      <td>Original</td>\n",
       "      <td>PG-13 - Teens 13 or older</td>\n",
       "      <td>2021</td>\n",
       "      <td>&lt;NA&gt;</td>\n",
       "      <td>23.0</td>\n",
       "    </tr>\n",
       "  </tbody>\n",
       "</table>\n",
       "<p>12421 rows × 12 columns</p>\n",
       "</div>"
      ],
      "text/plain": [
       "       Score                                             Genres     Type  \\\n",
       "0       8.78    Action, Adventure, Comedy, Drama, Sci-Fi, Space       TV   \n",
       "1       8.39              Action, Drama, Mystery, Sci-Fi, Space    Movie   \n",
       "2       8.24  Action, Sci-Fi, Adventure, Comedy, Drama, Shounen       TV   \n",
       "3       7.27  Action, Mystery, Police, Supernatural, Drama, ...       TV   \n",
       "4       6.98          Adventure, Fantasy, Shounen, Supernatural       TV   \n",
       "...      ...                                                ...      ...   \n",
       "17504   6.59                                             Comedy      ONA   \n",
       "17505   7.52                                     Music, Romance    Music   \n",
       "17512   6.83                              Slice of Life, Comedy  Special   \n",
       "17513   4.81  Mystery, Psychological, Supernatural, Thriller...  Special   \n",
       "17552   6.52                                     Comedy, Sports  Special   \n",
       "\n",
       "      Episodes                                          Producers  \\\n",
       "0           26                                      Bandai Visual   \n",
       "1            1                             Sunrise, Bandai Visual   \n",
       "2           26                               Victor Entertainment   \n",
       "3           26  TV Tokyo, Bandai Visual, Dentsu, Victor Entert...   \n",
       "4           52                                   TV Tokyo, Dentsu   \n",
       "...        ...                                                ...   \n",
       "17504        4                                            Unknown   \n",
       "17505        1                                            Unknown   \n",
       "17512        1                                            Unknown   \n",
       "17513        1                                            Unknown   \n",
       "17552        1                      Aniplex, Movic, ABC Animation   \n",
       "\n",
       "                                  Licensors                 Studios    Source  \\\n",
       "0          Funimation, Bandai Entertainment                 Sunrise  Original   \n",
       "1               Sony Pictures Entertainment                   Bones  Original   \n",
       "2      Funimation, Geneon Entertainment USA                Madhouse     Manga   \n",
       "3          Funimation, Bandai Entertainment                 Sunrise  Original   \n",
       "4                                   Unknown          Toei Animation     Manga   \n",
       "...                                     ...                     ...       ...   \n",
       "17504                               Unknown                 Unknown  Original   \n",
       "17505                               Unknown  10Gauge, Studio DURIAN  Original   \n",
       "17512                               Unknown                 Unknown      Game   \n",
       "17513                               Unknown             CloverWorks     Manga   \n",
       "17552                               Unknown                   Bones  Original   \n",
       "\n",
       "                               Rating Start year Anime season  \\\n",
       "0      R - 17+ (violence & profanity)       1998       Spring   \n",
       "1      R - 17+ (violence & profanity)       2001         <NA>   \n",
       "2           PG-13 - Teens 13 or older       1998       Spring   \n",
       "3           PG-13 - Teens 13 or older       2002       Summer   \n",
       "4                       PG - Children       2004         Fall   \n",
       "...                               ...        ...          ...   \n",
       "17504       PG-13 - Teens 13 or older       2021         <NA>   \n",
       "17505                    G - All Ages       2021         <NA>   \n",
       "17512                   PG - Children       2021         <NA>   \n",
       "17513  R - 17+ (violence & profanity)       2021         <NA>   \n",
       "17552       PG-13 - Teens 13 or older       2021         <NA>   \n",
       "\n",
       "       Duration in minutes  \n",
       "0                     24.0  \n",
       "1                    115.0  \n",
       "2                     24.0  \n",
       "3                     25.0  \n",
       "4                     23.0  \n",
       "...                    ...  \n",
       "17504                  NaN  \n",
       "17505                  4.0  \n",
       "17512                 10.0  \n",
       "17513                 23.0  \n",
       "17552                 23.0  \n",
       "\n",
       "[12421 rows x 12 columns]"
      ]
     },
     "execution_count": 24,
     "metadata": {},
     "output_type": "execute_result"
    }
   ],
   "source": [
    "df_anime"
   ]
  },
  {
   "cell_type": "code",
   "execution_count": null,
   "metadata": {},
   "outputs": [
    {
     "name": "stdout",
     "output_type": "stream",
     "text": [
      "<class 'pandas.core.frame.DataFrame'>\n",
      "Int64Index: 12421 entries, 0 to 17552\n",
      "Data columns (total 12 columns):\n",
      " #   Column               Non-Null Count  Dtype  \n",
      "---  ------               --------------  -----  \n",
      " 0   Score                12421 non-null  float64\n",
      " 1   Genres               12421 non-null  object \n",
      " 2   Type                 12421 non-null  object \n",
      " 3   Episodes             12316 non-null  object \n",
      " 4   Producers            12421 non-null  object \n",
      " 5   Licensors            12421 non-null  object \n",
      " 6   Studios              12421 non-null  object \n",
      " 7   Source               10443 non-null  object \n",
      " 8   Rating               12310 non-null  object \n",
      " 9   Start year           12414 non-null  object \n",
      " 10  Anime season         3813 non-null   object \n",
      " 11  Duration in minutes  12398 non-null  float64\n",
      "dtypes: float64(2), object(10)\n",
      "memory usage: 1.2+ MB\n"
     ]
    }
   ],
   "source": [
    "df_anime.info()"
   ]
  },
  {
   "cell_type": "code",
   "execution_count": null,
   "metadata": {},
   "outputs": [
    {
     "data": {
      "text/html": [
       "<div>\n",
       "<style scoped>\n",
       "    .dataframe tbody tr th:only-of-type {\n",
       "        vertical-align: middle;\n",
       "    }\n",
       "\n",
       "    .dataframe tbody tr th {\n",
       "        vertical-align: top;\n",
       "    }\n",
       "\n",
       "    .dataframe thead th {\n",
       "        text-align: right;\n",
       "    }\n",
       "</style>\n",
       "<table border=\"1\" class=\"dataframe\">\n",
       "  <thead>\n",
       "    <tr style=\"text-align: right;\">\n",
       "      <th></th>\n",
       "      <th>Score</th>\n",
       "      <th>Duration in minutes</th>\n",
       "    </tr>\n",
       "  </thead>\n",
       "  <tbody>\n",
       "    <tr>\n",
       "      <th>count</th>\n",
       "      <td>12421.000000</td>\n",
       "      <td>12398.000000</td>\n",
       "    </tr>\n",
       "    <tr>\n",
       "      <th>mean</th>\n",
       "      <td>6.509999</td>\n",
       "      <td>26.572381</td>\n",
       "    </tr>\n",
       "    <tr>\n",
       "      <th>std</th>\n",
       "      <td>0.886717</td>\n",
       "      <td>25.358223</td>\n",
       "    </tr>\n",
       "    <tr>\n",
       "      <th>min</th>\n",
       "      <td>1.850000</td>\n",
       "      <td>0.050000</td>\n",
       "    </tr>\n",
       "    <tr>\n",
       "      <th>25%</th>\n",
       "      <td>5.930000</td>\n",
       "      <td>9.000000</td>\n",
       "    </tr>\n",
       "    <tr>\n",
       "      <th>50%</th>\n",
       "      <td>6.520000</td>\n",
       "      <td>24.000000</td>\n",
       "    </tr>\n",
       "    <tr>\n",
       "      <th>75%</th>\n",
       "      <td>7.140000</td>\n",
       "      <td>29.000000</td>\n",
       "    </tr>\n",
       "    <tr>\n",
       "      <th>max</th>\n",
       "      <td>9.190000</td>\n",
       "      <td>163.000000</td>\n",
       "    </tr>\n",
       "  </tbody>\n",
       "</table>\n",
       "</div>"
      ],
      "text/plain": [
       "              Score  Duration in minutes\n",
       "count  12421.000000         12398.000000\n",
       "mean       6.509999            26.572381\n",
       "std        0.886717            25.358223\n",
       "min        1.850000             0.050000\n",
       "25%        5.930000             9.000000\n",
       "50%        6.520000            24.000000\n",
       "75%        7.140000            29.000000\n",
       "max        9.190000           163.000000"
      ]
     },
     "execution_count": 26,
     "metadata": {},
     "output_type": "execute_result"
    }
   ],
   "source": [
    "df_anime.describe()"
   ]
  },
  {
   "cell_type": "code",
   "execution_count": null,
   "metadata": {},
   "outputs": [],
   "source": [
    "df_anime['Episodes']= pd.to_numeric(df_anime['Episodes'])#Make float"
   ]
  },
  {
   "cell_type": "code",
   "execution_count": null,
   "metadata": {},
   "outputs": [
    {
     "data": {
      "text/html": [
       "<div>\n",
       "<style scoped>\n",
       "    .dataframe tbody tr th:only-of-type {\n",
       "        vertical-align: middle;\n",
       "    }\n",
       "\n",
       "    .dataframe tbody tr th {\n",
       "        vertical-align: top;\n",
       "    }\n",
       "\n",
       "    .dataframe thead th {\n",
       "        text-align: right;\n",
       "    }\n",
       "</style>\n",
       "<table border=\"1\" class=\"dataframe\">\n",
       "  <thead>\n",
       "    <tr style=\"text-align: right;\">\n",
       "      <th></th>\n",
       "      <th>Score</th>\n",
       "      <th>Episodes</th>\n",
       "      <th>Duration in minutes</th>\n",
       "    </tr>\n",
       "  </thead>\n",
       "  <tbody>\n",
       "    <tr>\n",
       "      <th>count</th>\n",
       "      <td>12421.000000</td>\n",
       "      <td>12316.000000</td>\n",
       "      <td>12398.000000</td>\n",
       "    </tr>\n",
       "    <tr>\n",
       "      <th>mean</th>\n",
       "      <td>6.509999</td>\n",
       "      <td>11.329165</td>\n",
       "      <td>26.572381</td>\n",
       "    </tr>\n",
       "    <tr>\n",
       "      <th>std</th>\n",
       "      <td>0.886717</td>\n",
       "      <td>42.797634</td>\n",
       "      <td>25.358223</td>\n",
       "    </tr>\n",
       "    <tr>\n",
       "      <th>min</th>\n",
       "      <td>1.850000</td>\n",
       "      <td>1.000000</td>\n",
       "      <td>0.050000</td>\n",
       "    </tr>\n",
       "    <tr>\n",
       "      <th>25%</th>\n",
       "      <td>5.930000</td>\n",
       "      <td>1.000000</td>\n",
       "      <td>9.000000</td>\n",
       "    </tr>\n",
       "    <tr>\n",
       "      <th>50%</th>\n",
       "      <td>6.520000</td>\n",
       "      <td>2.000000</td>\n",
       "      <td>24.000000</td>\n",
       "    </tr>\n",
       "    <tr>\n",
       "      <th>75%</th>\n",
       "      <td>7.140000</td>\n",
       "      <td>12.000000</td>\n",
       "      <td>29.000000</td>\n",
       "    </tr>\n",
       "    <tr>\n",
       "      <th>max</th>\n",
       "      <td>9.190000</td>\n",
       "      <td>1818.000000</td>\n",
       "      <td>163.000000</td>\n",
       "    </tr>\n",
       "  </tbody>\n",
       "</table>\n",
       "</div>"
      ],
      "text/plain": [
       "              Score      Episodes  Duration in minutes\n",
       "count  12421.000000  12316.000000         12398.000000\n",
       "mean       6.509999     11.329165            26.572381\n",
       "std        0.886717     42.797634            25.358223\n",
       "min        1.850000      1.000000             0.050000\n",
       "25%        5.930000      1.000000             9.000000\n",
       "50%        6.520000      2.000000            24.000000\n",
       "75%        7.140000     12.000000            29.000000\n",
       "max        9.190000   1818.000000           163.000000"
      ]
     },
     "execution_count": 28,
     "metadata": {},
     "output_type": "execute_result"
    }
   ],
   "source": [
    "df_anime.describe()"
   ]
  },
  {
   "cell_type": "code",
   "execution_count": null,
   "metadata": {},
   "outputs": [
    {
     "data": {
      "text/plain": [
       "Index(['Score', 'Genres', 'Type', 'Episodes', 'Producers', 'Licensors',\n",
       "       'Studios', 'Source', 'Rating', 'Start year', 'Anime season',\n",
       "       'Duration in minutes'],\n",
       "      dtype='object')"
      ]
     },
     "execution_count": 29,
     "metadata": {},
     "output_type": "execute_result"
    }
   ],
   "source": [
    "df_anime.columns"
   ]
  },
  {
   "cell_type": "markdown",
   "metadata": {},
   "source": [
    "Numerical variables: 'Score' , 'Episodes', 'Duration in minutes'\n",
    "\n",
    "Categorical variables: 'Genres' , 'Type' , 'Producers' , 'Licensors' , 'Studios' , 'Source' , 'Rating' , 'Start year' , 'Anime season'.\n",
    "\n",
    "##NUMERICS\n",
    "\n",
    "###SCORE"
   ]
  },
  {
   "cell_type": "code",
   "execution_count": null,
   "metadata": {},
   "outputs": [
    {
     "name": "stdout",
     "output_type": "stream",
     "text": [
      "Requirement already satisfied: seaborn in c:\\users\\hp\\anaconda3\\lib\\site-packages (0.11.2)\n",
      "Requirement already satisfied: scipy>=1.0 in c:\\users\\hp\\anaconda3\\lib\\site-packages (from seaborn) (1.7.3)\n",
      "Requirement already satisfied: pandas>=0.23 in c:\\users\\hp\\anaconda3\\lib\\site-packages (from seaborn) (1.4.2)\n",
      "Requirement already satisfied: matplotlib>=2.2 in c:\\users\\hp\\anaconda3\\lib\\site-packages (from seaborn) (3.5.1)\n",
      "Requirement already satisfied: numpy>=1.15 in c:\\users\\hp\\anaconda3\\lib\\site-packages (from seaborn) (1.21.5)\n",
      "Requirement already satisfied: packaging>=20.0 in c:\\users\\hp\\anaconda3\\lib\\site-packages (from matplotlib>=2.2->seaborn) (21.3)\n",
      "Requirement already satisfied: fonttools>=4.22.0 in c:\\users\\hp\\anaconda3\\lib\\site-packages (from matplotlib>=2.2->seaborn) (4.25.0)\n",
      "Requirement already satisfied: python-dateutil>=2.7 in c:\\users\\hp\\anaconda3\\lib\\site-packages (from matplotlib>=2.2->seaborn) (2.8.2)\n",
      "Requirement already satisfied: cycler>=0.10 in c:\\users\\hp\\anaconda3\\lib\\site-packages (from matplotlib>=2.2->seaborn) (0.11.0)\n",
      "Requirement already satisfied: kiwisolver>=1.0.1 in c:\\users\\hp\\anaconda3\\lib\\site-packages (from matplotlib>=2.2->seaborn) (1.3.2)\n",
      "Requirement already satisfied: pyparsing>=2.2.1 in c:\\users\\hp\\anaconda3\\lib\\site-packages (from matplotlib>=2.2->seaborn) (3.0.4)\n",
      "Requirement already satisfied: pillow>=6.2.0 in c:\\users\\hp\\anaconda3\\lib\\site-packages (from matplotlib>=2.2->seaborn) (9.0.1)\n",
      "Requirement already satisfied: pytz>=2020.1 in c:\\users\\hp\\anaconda3\\lib\\site-packages (from pandas>=0.23->seaborn) (2021.3)\n",
      "Requirement already satisfied: six>=1.5 in c:\\users\\hp\\anaconda3\\lib\\site-packages (from python-dateutil>=2.7->matplotlib>=2.2->seaborn) (1.16.0)\n"
     ]
    }
   ],
   "source": [
    "!pip install seaborn --upgrade"
   ]
  },
  {
   "cell_type": "code",
   "execution_count": null,
   "metadata": {},
   "outputs": [
    {
     "name": "stdout",
     "output_type": "stream",
     "text": [
      "\n",
      "Note: you may need to restart the kernel to use updated packages.\n"
     ]
    },
    {
     "name": "stderr",
     "output_type": "stream",
     "text": [
      "usage: conda-script.py [-h] [-V] command ...\n",
      "conda-script.py: error: unrecognized arguments: ---all\n"
     ]
    }
   ],
   "source": [
    "conda update ---all"
   ]
  },
  {
   "cell_type": "code",
   "execution_count": null,
   "metadata": {},
   "outputs": [
    {
     "data": {
      "text/plain": [
       "<AxesSubplot:xlabel='Score', ylabel='Count'>"
      ]
     },
     "execution_count": 32,
     "metadata": {},
     "output_type": "execute_result"
    },
    {
     "data": {
      "image/png": "[encoded data removed]",
      "text/plain": [
       "<Figure size 432x288 with 1 Axes>"
      ]
     },
     "metadata": {
      "needs_background": "light"
     },
     "output_type": "display_data"
    }
   ],
   "source": [
    "#View data distribution\n",
    "sns.histplot(data = df_anime , x = 'Score' , kde = True)"
   ]
  },
  {
   "cell_type": "code",
   "execution_count": null,
   "metadata": {},
   "outputs": [
    {
     "data": {
      "text/plain": [
       "<AxesSubplot:ylabel='Score'>"
      ]
     },
     "execution_count": 33,
     "metadata": {},
     "output_type": "execute_result"
    },
    {
     "data": {
      "image/png": "[encoded data removed]",
      "text/plain": [
       "<Figure size 432x648 with 1 Axes>"
      ]
     },
     "metadata": {
      "needs_background": "light"
     },
     "output_type": "display_data"
    }
   ],
   "source": [
    "plt.figure(figsize=(6,9))\n",
    "sns.boxplot(data = df_anime , y = 'Score')"
   ]
  },
  {
   "cell_type": "markdown",
   "metadata": {},
   "source": [
    "The score has outliers, either maximum or minimum values. I can affirm that more than 50% of my data has a score of more than 6."
   ]
  },
  {
   "cell_type": "code",
   "execution_count": null,
   "metadata": {},
   "outputs": [],
   "source": [
    "###Episodes"
   ]
  },
  {
   "cell_type": "code",
   "execution_count": null,
   "metadata": {},
   "outputs": [
    {
     "data": {
      "text/plain": [
       "count    12316.000000\n",
       "mean        11.329165\n",
       "std         42.797634\n",
       "min          1.000000\n",
       "25%          1.000000\n",
       "50%          2.000000\n",
       "75%         12.000000\n",
       "max       1818.000000\n",
       "Name: Episodes, dtype: float64"
      ]
     },
     "execution_count": 35,
     "metadata": {},
     "output_type": "execute_result"
    }
   ],
   "source": [
    "df_anime.Episodes.describe()"
   ]
  },
  {
   "cell_type": "code",
   "execution_count": null,
   "metadata": {},
   "outputs": [
    {
     "data": {
      "text/plain": [
       "<AxesSubplot:ylabel='Episodes'>"
      ]
     },
     "execution_count": 36,
     "metadata": {},
     "output_type": "execute_result"
    },
    {
     "data": {
      "image/png": "[encoded data removed]",
      "text/plain": [
       "<Figure size 648x504 with 1 Axes>"
      ]
     },
     "metadata": {
      "needs_background": "light"
     },
     "output_type": "display_data"
    }
   ],
   "source": [
    "plt.figure(figsize=(9,7))\n",
    "sns.boxplot(data = df_anime , y = 'Episodes'  )"
   ]
  },
  {
   "cell_type": "markdown",
   "metadata": {},
   "source": [
    "75% of my data only comes in 12 or more chapters. This is usually the standard number of chapters an anime\n"
   ]
  },
  {
   "cell_type": "code",
   "execution_count": null,
   "metadata": {},
   "outputs": [],
   "source": [
    "#Duration In minutes"
   ]
  },
  {
   "cell_type": "code",
   "execution_count": null,
   "metadata": {},
   "outputs": [
    {
     "data": {
      "text/plain": [
       "<seaborn.axisgrid.FacetGrid at 0x1a4026602e0>"
      ]
     },
     "execution_count": 38,
     "metadata": {},
     "output_type": "execute_result"
    },
    {
     "data": {
      "image/png": "[encoded data removed]",
      "text/plain": [
       "<Figure size 360x360 with 1 Axes>"
      ]
     },
     "metadata": {
      "needs_background": "light"
     },
     "output_type": "display_data"
    }
   ],
   "source": [
    "#View data distribution\n",
    "sns.displot(data = df_anime , x = 'Duration in minutes' , kde = True)"
   ]
  },
  {
   "cell_type": "markdown",
   "metadata": {},
   "source": [
    "The distribution tells us that most of our data is between 20 and 40 minutes."
   ]
  },
  {
   "cell_type": "code",
   "execution_count": null,
   "metadata": {},
   "outputs": [
    {
     "data": {
      "text/plain": [
       "<AxesSubplot:ylabel='Duration in minutes'>"
      ]
     },
     "execution_count": 39,
     "metadata": {},
     "output_type": "execute_result"
    },
    {
     "data": {
      "image/png": "[encoded data removed]",
      "text/plain": [
       "<Figure size 432x648 with 1 Axes>"
      ]
     },
     "metadata": {
      "needs_background": "light"
     },
     "output_type": "display_data"
    }
   ],
   "source": [
    "plt.figure(figsize=(6,9))\n",
    "sns.boxplot(data = df_anime , y = 'Duration in minutes')"
   ]
  },
  {
   "cell_type": "markdown",
   "metadata": {},
   "source": [
    "There are outliers . There are anime that have 60 to more minutes . These can be anime movies. While 50% of my data is about 23 minutes (which is ideal) in an anime series, there are outliers."
   ]
  },
  {
   "cell_type": "code",
   "execution_count": null,
   "metadata": {},
   "outputs": [],
   "source": [
    "#CATEGORIES"
   ]
  },
  {
   "cell_type": "code",
   "execution_count": null,
   "metadata": {},
   "outputs": [],
   "source": [
    "def to_ID(series):\n",
    " return pd.Series([x for _list in series for x in _list])"
   ]
  },
  {
   "cell_type": "code",
   "execution_count": null,
   "metadata": {},
   "outputs": [],
   "source": [
    "#Genres"
   ]
  },
  {
   "cell_type": "markdown",
   "metadata": {},
   "source": [
    "Here we separate the genres to have a better analysis of them. Since they were in a list"
   ]
  },
  {
   "cell_type": "code",
   "execution_count": null,
   "metadata": {},
   "outputs": [],
   "source": [
    "df_anime['Genres_Split'] = df_anime['Genres'].apply(lambda x : x.replace(' ' , ''))\n",
    "df_anime['Genres_Split'] = df_anime['Genres_Split'].apply(lambda x : x.split(','))"
   ]
  },
  {
   "cell_type": "code",
   "execution_count": null,
   "metadata": {},
   "outputs": [],
   "source": [
    "gs_top10=to_ID(df_anime['Genres_Split']).value_counts().head(10).index\n",
    "ngs_top10=to_ID(df_anime['Genres_Split']).value_counts().head(10)"
   ]
  },
  {
   "cell_type": "code",
   "execution_count": null,
   "metadata": {},
   "outputs": [
    {
     "data": {
      "text/plain": [
       "Comedy         4559\n",
       "Action         3312\n",
       "Fantasy        2452\n",
       "Adventure      2288\n",
       "Sci-Fi         2185\n",
       "Drama          2051\n",
       "Shounen        1796\n",
       "Romance        1724\n",
       "School         1433\n",
       "SliceofLife    1370\n",
       "dtype: int64"
      ]
     },
     "execution_count": 59,
     "metadata": {},
     "output_type": "execute_result"
    }
   ],
   "source": [
    "ngs_top10"
   ]
  },
  {
   "cell_type": "code",
   "execution_count": null,
   "metadata": {},
   "outputs": [
    {
     "data": {
      "text/plain": [
       "<AxesSubplot:>"
      ]
     },
     "execution_count": 60,
     "metadata": {},
     "output_type": "execute_result"
    },
    {
     "data": {
      "image/png": "[encoded data removed]",
      "text/plain": [
       "<Figure size 720x576 with 1 Axes>"
      ]
     },
     "metadata": {
      "needs_background": "light"
     },
     "output_type": "display_data"
    }
   ],
   "source": [
    "#TOP 10 OF SEPARATE GENRES \n",
    "\n",
    "plt.figure(figsize=(10,8))\n",
    "\n",
    "sns.barplot(y = gs_top10 , x = ngs_top10 )"
   ]
  },
  {
   "cell_type": "markdown",
   "metadata": {},
   "source": [
    "In the dataset there are more comedy genres"
   ]
  },
  {
   "cell_type": "code",
   "execution_count": null,
   "metadata": {},
   "outputs": [],
   "source": [
    "#Type"
   ]
  },
  {
   "cell_type": "code",
   "execution_count": null,
   "metadata": {},
   "outputs": [
    {
     "data": {
      "text/plain": [
       "TV         3837\n",
       "OVA        2999\n",
       "Movie      2017\n",
       "Special    1754\n",
       "ONA        1084\n",
       "Music       730\n",
       "Name: Type, dtype: int64"
      ]
     },
     "execution_count": 62,
     "metadata": {},
     "output_type": "execute_result"
    }
   ],
   "source": [
    "df_anime['Type'].value_counts()"
   ]
  },
  {
   "cell_type": "code",
   "execution_count": null,
   "metadata": {},
   "outputs": [
    {
     "data": {
      "text/plain": [
       "<AxesSubplot:xlabel='count', ylabel='Type'>"
      ]
     },
     "execution_count": 63,
     "metadata": {},
     "output_type": "execute_result"
    },
    {
     "data": {
      "image/png": "[encoded data removed]",
      "text/plain": [
       "<Figure size 720x360 with 1 Axes>"
      ]
     },
     "metadata": {
      "needs_background": "light"
     },
     "output_type": "display_data"
    }
   ],
   "source": [
    "plt.figure(figsize=(10,5))\n",
    "sns.countplot(data = df_anime , y = 'Type' , order = df_anime['Type'].value_counts().index)"
   ]
  },
  {
   "cell_type": "markdown",
   "metadata": {},
   "source": [
    "There are more TV type anime in the dataset"
   ]
  },
  {
   "cell_type": "markdown",
   "metadata": {},
   "source": [
    "Producers"
   ]
  },
  {
   "cell_type": "code",
   "execution_count": null,
   "metadata": {},
   "outputs": [],
   "source": [
    "#As with the genres column, the same is done in this producers column.\n",
    "df_anime['Producers_Split'] = df_anime['Producers'].apply(lambda x : x.replace(' ' , ''))\n",
    "df_anime['Producers_Split']= df_anime['Producers_Split'].apply(lambda x : x.split(','))"
   ]
  },
  {
   "cell_type": "code",
   "execution_count": null,
   "metadata": {},
   "outputs": [],
   "source": [
    "#The [1 : 11] , is because there are nulls that are categorized as Unknown.\n",
    "producer_top10 = to_1D(df_anime['Producers_Split']).value_counts()[1:11].index\n",
    "nproducer_top10  = to_1D(df_anime['Producers_Split']).value_counts()[1:11]"
   ]
  },
  {
   "cell_type": "code",
   "execution_count": null,
   "metadata": {},
   "outputs": [
    {
     "data": {
      "text/plain": [
       "Aniplex         476\n",
       "Lantis          436\n",
       "TVTokyo         436\n",
       "BandaiVisual    393\n",
       "Movic           323\n",
       "PonyCanyon      288\n",
       "Sotsu           288\n",
       "AT-X            285\n",
       "Dentsu          281\n",
       "FujiTV          266\n",
       "dtype: int64"
      ]
     },
     "execution_count": 67,
     "metadata": {},
     "output_type": "execute_result"
    }
   ],
   "source": [
    "#TOP 10 PRODUCERS WHO HAVE MADE THE MOST ANIMES \n",
    "nproducer_top10"
   ]
  },
  {
   "cell_type": "code",
   "execution_count": null,
   "metadata": {},
   "outputs": [
    {
     "data": {
      "text/plain": [
       "<AxesSubplot:>"
      ]
     },
     "execution_count": 68,
     "metadata": {},
     "output_type": "execute_result"
    },
    {
     "data": {
      "image/png": "[encoded data removed]",
      "text/plain": [
       "<Figure size 720x576 with 1 Axes>"
      ]
     },
     "metadata": {
      "needs_background": "light"
     },
     "output_type": "display_data"
    }
   ],
   "source": [
    "plt.figure(figsize=(10,8))\n",
    "\n",
    "sns.barplot(y = producer_top10 , x = nproducer_top10 )"
   ]
  },
  {
   "cell_type": "markdown",
   "metadata": {},
   "source": [
    "Aniplex has produced the most anime according to the dataset."
   ]
  },
  {
   "cell_type": "code",
   "execution_count": null,
   "metadata": {},
   "outputs": [],
   "source": [
    "#LICENSORS"
   ]
  },
  {
   "cell_type": "code",
   "execution_count": null,
   "metadata": {},
   "outputs": [],
   "source": [
    "#As in the genres and producers columns, the separation of the following is carried out\n",
    "df_anime['Licensors_Split'] = df_anime['Licensors'].apply(lambda x : x.replace(' ' , ''))\n",
    "df_anime['Licensors_Split']= df_anime['Licensors_Split'].apply(lambda x : x.split(','))"
   ]
  },
  {
   "cell_type": "code",
   "execution_count": null,
   "metadata": {},
   "outputs": [],
   "source": [
    "#The [1 : 11] , is because there are nulls that are categorized as Unknown.\n",
    "licensors_top10 = to_1D(df_anime['Licensors_Split']).value_counts()[1:11].index\n",
    "nlicensors_top10  = to_1D(df_anime['Licensors_Split']).value_counts()[1:11]\n"
   ]
  },
  {
   "cell_type": "code",
   "execution_count": null,
   "metadata": {},
   "outputs": [
    {
     "data": {
      "text/plain": [
       "Funimation                1116\n",
       "SentaiFilmworks            743\n",
       "DiscotekMedia              360\n",
       "ADVFilms                   292\n",
       "MediaBlasters              271\n",
       "BandaiEntertainment        201\n",
       "AniplexofAmerica           192\n",
       "GeneonEntertainmentUSA     174\n",
       "VIZMedia                   173\n",
       "NozomiEntertainment        134\n",
       "dtype: int64"
      ]
     },
     "execution_count": 72,
     "metadata": {},
     "output_type": "execute_result"
    }
   ],
   "source": [
    "#TOP 10 of the licensors who have made the most animes\n",
    "nlicensors_top10"
   ]
  },
  {
   "cell_type": "code",
   "execution_count": null,
   "metadata": {},
   "outputs": [
    {
     "data": {
      "text/plain": [
       "<AxesSubplot:>"
      ]
     },
     "execution_count": 73,
     "metadata": {},
     "output_type": "execute_result"
    },
    {
     "data": {
      "image/png": "[encoded data removed]",
      "text/plain": [
       "<Figure size 720x576 with 1 Axes>"
      ]
     },
     "metadata": {
      "needs_background": "light"
     },
     "output_type": "display_data"
    }
   ],
   "source": [
    "plt.figure(figsize=(10,8))\n",
    "\n",
    "sns.barplot(y = licensors_top10 , x = nlicensors_top10 )"
   ]
  },
  {
   "cell_type": "markdown",
   "metadata": {},
   "source": [
    "We can see that funimation has the most licenses in anime."
   ]
  },
  {
   "cell_type": "markdown",
   "metadata": {},
   "source": [
    "Studios"
   ]
  },
  {
   "cell_type": "code",
   "execution_count": null,
   "metadata": {},
   "outputs": [],
   "source": [
    "df_anime['Studios_Split'] = df_anime['Studios'].apply(lambda x : x.replace(' ' , ''))\n",
    "df_anime['Studios_Split']= df_anime['Studios_Split'].apply(lambda x : x.split(','))"
   ]
  },
  {
   "cell_type": "code",
   "execution_count": null,
   "metadata": {},
   "outputs": [],
   "source": [
    "studios_top10 = to_1D(df_anime['Studios_Split']).value_counts()[1:11].index\n",
    "nstudios_top10  = to_1D(df_anime['Studios_Split']).value_counts()[1:11]"
   ]
  },
  {
   "cell_type": "code",
   "execution_count": null,
   "metadata": {},
   "outputs": [
    {
     "data": {
      "text/plain": [
       "ToeiAnimation       604\n",
       "Sunrise             464\n",
       "Madhouse            355\n",
       "J.C.Staff           346\n",
       "ProductionI.G       312\n",
       "StudioDeen          262\n",
       "StudioPierrot       232\n",
       "TMSEntertainment    226\n",
       "OLM                 207\n",
       "A-1Pictures         201\n",
       "dtype: int64"
      ]
     },
     "execution_count": 76,
     "metadata": {},
     "output_type": "execute_result"
    }
   ],
   "source": [
    "nstudios_top10"
   ]
  },
  {
   "cell_type": "code",
   "execution_count": null,
   "metadata": {},
   "outputs": [
    {
     "data": {
      "text/plain": [
       "<AxesSubplot:>"
      ]
     },
     "execution_count": 77,
     "metadata": {},
     "output_type": "execute_result"
    },
    {
     "data": {
      "image/png": "[encoded data removed]",
      "text/plain": [
       "<Figure size 720x576 with 1 Axes>"
      ]
     },
     "metadata": {
      "needs_background": "light"
     },
     "output_type": "display_data"
    }
   ],
   "source": [
    "plt.figure(figsize=(10,8))\n",
    "\n",
    "sns.barplot(y = studios_top10 , x = nstudios_top10 )"
   ]
  },
  {
   "cell_type": "markdown",
   "metadata": {},
   "source": [
    "ToeAnimation is the studio with the most anime in the world"
   ]
  },
  {
   "cell_type": "code",
   "execution_count": null,
   "metadata": {},
   "outputs": [],
   "source": [
    "#Source"
   ]
  },
  {
   "cell_type": "code",
   "execution_count": null,
   "metadata": {},
   "outputs": [],
   "source": [
    "source_top10 = df_anime['Source'].value_counts().head(10).index\n",
    "nsource_top10 = df_anime['Source'].value_counts().head(10)"
   ]
  },
  {
   "cell_type": "code",
   "execution_count": null,
   "metadata": {},
   "outputs": [
    {
     "data": {
      "text/plain": [
       "Manga           3413\n",
       "Original        3083\n",
       "Visual novel     976\n",
       "Game             725\n",
       "Light novel      709\n",
       "Novel            401\n",
       "Other            313\n",
       "4-koma manga     249\n",
       "Music            203\n",
       "Web manga        190\n",
       "Name: Source, dtype: int64"
      ]
     },
     "execution_count": 80,
     "metadata": {},
     "output_type": "execute_result"
    }
   ],
   "source": [
    "nsource_top10"
   ]
  },
  {
   "cell_type": "code",
   "execution_count": null,
   "metadata": {},
   "outputs": [
    {
     "data": {
      "text/plain": [
       "<AxesSubplot:xlabel='Source'>"
      ]
     },
     "execution_count": 81,
     "metadata": {},
     "output_type": "execute_result"
    },
    {
     "data": {
      "image/png": "[encoded data removed]",
      "text/plain": [
       "<Figure size 720x504 with 1 Axes>"
      ]
     },
     "metadata": {
      "needs_background": "light"
     },
     "output_type": "display_data"
    }
   ],
   "source": [
    "plt.figure(figsize=(10,7))\n",
    "sns.barplot( x = nsource_top10 , y= source_top10)"
   ]
  },
  {
   "cell_type": "markdown",
   "metadata": {},
   "source": [
    "In the dataset there are more anime that come from manga . Then follow the anime that are from original source.\n",
    "\n"
   ]
  },
  {
   "cell_type": "code",
   "execution_count": null,
   "metadata": {},
   "outputs": [],
   "source": [
    "#Rating"
   ]
  },
  {
   "cell_type": "code",
   "execution_count": null,
   "metadata": {},
   "outputs": [
    {
     "data": {
      "text/plain": [
       "PG-13 - Teens 13 or older         5456\n",
       "G - All Ages                      2663\n",
       "Rx - Hentai                       1328\n",
       "R - 17+ (violence & profanity)    1080\n",
       "R+ - Mild Nudity                   917\n",
       "PG - Children                      866\n",
       "Name: Rating, dtype: int64"
      ]
     },
     "execution_count": 83,
     "metadata": {},
     "output_type": "execute_result"
    }
   ],
   "source": [
    "df_anime['Rating'].value_counts()"
   ]
  },
  {
   "cell_type": "code",
   "execution_count": null,
   "metadata": {},
   "outputs": [
    {
     "data": {
      "text/plain": [
       "<AxesSubplot:xlabel='count', ylabel='Rating'>"
      ]
     },
     "execution_count": 84,
     "metadata": {},
     "output_type": "execute_result"
    },
    {
     "data": {
      "image/png": "[encoded data removed]",
      "text/plain": [
       "<Figure size 936x504 with 1 Axes>"
      ]
     },
     "metadata": {
      "needs_background": "light"
     },
     "output_type": "display_data"
    }
   ],
   "source": [
    "plt.figure(figsize=(13,7))\n",
    "sns.countplot(data = df_anime , y = 'Rating' , order = df_anime['Rating'].value_counts().index)"
   ]
  },
  {
   "cell_type": "code",
   "execution_count": null,
   "metadata": {},
   "outputs": [
    {
     "name": "stdout",
     "output_type": "stream",
     "text": [
      "Collecting squarifyNote: you may need to restart the kernel to use updated packages.\n",
      "\n",
      "  Downloading squarify-0.4.3-py3-none-any.whl (4.3 kB)\n",
      "Installing collected packages: squarify\n",
      "Successfully installed squarify-0.4.3\n"
     ]
    }
   ],
   "source": [
    "pip install squarify"
   ]
  },
  {
   "cell_type": "code",
   "execution_count": null,
   "metadata": {},
   "outputs": [
    {
     "data": {
      "image/png": "[encoded data removed]",
      "text/plain": [
       "<Figure size 576x360 with 1 Axes>"
      ]
     },
     "metadata": {
      "needs_background": "light"
     },
     "output_type": "display_data"
    }
   ],
   "source": [
    "import squarify\n",
    "plt.figure(figsize=(8,5))\n",
    "color = ['red' , 'blue','yellow','green','gray','pink']\n",
    "squarify.plot(sizes = df_anime['Rating'].value_counts(),  label = df_anime['Rating'].value_counts().index, alpha=0.7 , color = color,\n",
    "              text_kwargs={'fontsize':10})\n",
    "plt.axis('off')\n",
    "plt.show()"
   ]
  },
  {
   "cell_type": "markdown",
   "metadata": {},
   "source": [
    "Most anime are for people 13 and older"
   ]
  },
  {
   "cell_type": "markdown",
   "metadata": {},
   "source": [
    "Start year"
   ]
  },
  {
   "cell_type": "code",
   "execution_count": null,
   "metadata": {},
   "outputs": [
    {
     "data": {
      "text/plain": [
       "array(['1998', '2001', '2002', '2004', '2005', '1999', '2003', '1995',\n",
       "       '1997', '1996', '1988', '1993', '2000', '1979', '1989', '1991',\n",
       "       '1985', '1986', '1994', '1992', '1990', '1978', '1973', '2006',\n",
       "       '1987', '1984', '1982', '1977', '1983', '1980', '1976', '1968',\n",
       "       '1981', '2007', '1971', '1967', '1975', '1962', '1969', '1965',\n",
       "       '1974', '1964', '2008', '1972', '1970', '1966', '1963', '1945',\n",
       "       '2009', '2012', '1933', '1929', '1943', '2010', '1931', '1932',\n",
       "       '1934', '1936', '1928', '1960', '1958', '2011', '1959', '1930',\n",
       "       '1947', '1917', '1935', '1938', '1939', '1941', '1942', '1948',\n",
       "       '1950', '1957', '1961', '1918', '1924', '1926', '1927', '1940',\n",
       "       '1944', '1946', '1952', '1954', '1956', '2016', '2013', '2019',\n",
       "       '2014', '2015', '2017', '2018', '1925', '1949', '1937', <NA>,\n",
       "       '2021', '2020'], dtype=object)"
      ]
     },
     "execution_count": 88,
     "metadata": {},
     "output_type": "execute_result"
    }
   ],
   "source": [
    "df_anime['Start year'].unique()"
   ]
  },
  {
   "cell_type": "code",
   "execution_count": null,
   "metadata": {},
   "outputs": [],
   "source": [
    "syear_top10 = df_anime['Start year'].value_counts().head(10).index\n",
    "\n",
    "nsyear_top10 = df_anime['Start year'].value_counts().head(10)"
   ]
  },
  {
   "cell_type": "code",
   "execution_count": null,
   "metadata": {},
   "outputs": [
    {
     "data": {
      "text/plain": [
       "2016    683\n",
       "2017    652\n",
       "2018    638\n",
       "2014    638\n",
       "2015    590\n",
       "2013    572\n",
       "2012    567\n",
       "2019    523\n",
       "2011    512\n",
       "2010    455\n",
       "Name: Start year, dtype: int64"
      ]
     },
     "execution_count": 90,
     "metadata": {},
     "output_type": "execute_result"
    }
   ],
   "source": [
    "nsyear_top10"
   ]
  },
  {
   "cell_type": "code",
   "execution_count": null,
   "metadata": {},
   "outputs": [
    {
     "data": {
      "text/plain": [
       "<AxesSubplot:xlabel='Start year'>"
      ]
     },
     "execution_count": 91,
     "metadata": {},
     "output_type": "execute_result"
    },
    {
     "data": {
      "image/png": "[encoded data removed]",
      "text/plain": [
       "<Figure size 936x576 with 1 Axes>"
      ]
     },
     "metadata": {
      "needs_background": "light"
     },
     "output_type": "display_data"
    }
   ],
   "source": [
    "plt.figure(figsize=(13,8))\n",
    "\n",
    "sns.barplot(y = syear_top10 , x = nsyear_top10 )"
   ]
  },
  {
   "cell_type": "code",
   "execution_count": null,
   "metadata": {},
   "outputs": [
    {
     "data": {
      "image/png": "[encoded data removed]",
      "text/plain": [
       "<Figure size 576x360 with 1 Axes>"
      ]
     },
     "metadata": {
      "needs_background": "light"
     },
     "output_type": "display_data"
    }
   ],
   "source": [
    "import squarify\n",
    "plt.figure(figsize=(8,5))\n",
    "squarify.plot(sizes = nsyear_top10,  label = syear_top10, alpha=0.7)\n",
    "plt.axis('off')\n",
    "plt.show()"
   ]
  },
  {
   "cell_type": "markdown",
   "metadata": {},
   "source": [
    "2016 was the year that the most anime were released . This was followed by 2017"
   ]
  },
  {
   "cell_type": "markdown",
   "metadata": {},
   "source": [
    "Anime Season"
   ]
  },
  {
   "cell_type": "code",
   "execution_count": null,
   "metadata": {},
   "outputs": [],
   "source": [
    "animeseason = df_anime['Anime season'].value_counts().head(10).index\n",
    "\n",
    "nanimeseason = df_anime['Anime season'].value_counts().head(10)"
   ]
  },
  {
   "cell_type": "code",
   "execution_count": null,
   "metadata": {},
   "outputs": [
    {
     "data": {
      "text/plain": [
       "Spring    1234\n",
       "Fall      1131\n",
       "Winter     795\n",
       "Summer     653\n",
       "Name: Anime season, dtype: int64"
      ]
     },
     "execution_count": 96,
     "metadata": {},
     "output_type": "execute_result"
    }
   ],
   "source": [
    "nanimeseason"
   ]
  },
  {
   "cell_type": "code",
   "execution_count": null,
   "metadata": {},
   "outputs": [
    {
     "data": {
      "text/plain": [
       "<AxesSubplot:xlabel='Anime season'>"
      ]
     },
     "execution_count": 97,
     "metadata": {},
     "output_type": "execute_result"
    },
    {
     "data": {
      "image/png": "[encoded data removed]",
      "text/plain": [
       "<Figure size 648x360 with 1 Axes>"
      ]
     },
     "metadata": {
      "needs_background": "light"
     },
     "output_type": "display_data"
    }
   ],
   "source": [
    "plt.figure(figsize=(9,5))\n",
    "\n",
    "sns.barplot(y = animeseason, x = nanimeseason )"
   ]
  },
  {
   "cell_type": "markdown",
   "metadata": {},
   "source": [
    "Score v Episodes"
   ]
  },
  {
   "cell_type": "markdown",
   "metadata": {},
   "source": [
    "A correlation will be made between these values"
   ]
  },
  {
   "cell_type": "code",
   "execution_count": null,
   "metadata": {},
   "outputs": [
    {
     "data": {
      "text/plain": [
       "0.2968140942785327"
      ]
     },
     "execution_count": 100,
     "metadata": {},
     "output_type": "execute_result"
    }
   ],
   "source": [
    "df_anime['Episodes'].corr(df_anime['Score'] , method = 'spearman')"
   ]
  },
  {
   "cell_type": "markdown",
   "metadata": {},
   "source": [
    "It has a moderate positive correlation"
   ]
  },
  {
   "cell_type": "code",
   "execution_count": null,
   "metadata": {},
   "outputs": [
    {
     "data": {
      "text/plain": [
       "<AxesSubplot:xlabel='Episodes', ylabel='Score'>"
      ]
     },
     "execution_count": 102,
     "metadata": {},
     "output_type": "execute_result"
    },
    {
     "data": {
      "image/png": "[encoded data removed]",
      "text/plain": [
       "<Figure size 1080x360 with 1 Axes>"
      ]
     },
     "metadata": {
      "needs_background": "light"
     },
     "output_type": "display_data"
    }
   ],
   "source": [
    "plt.figure(figsize=(15,5))\n",
    "sns.scatterplot(data = df_anime , x = 'Episodes' , y= 'Score' , hue = 'Score' , size = 'Score' , sizes = (20,200))"
   ]
  },
  {
   "cell_type": "markdown",
   "metadata": {},
   "source": [
    "I can say that as the number of episodes increases, it does not mean that it will have a higher value. So the number of episodes does not influence . It may be that a good anime can have 12 chapters and be very good . Or it does not mean by having many chapters , it will have better valuation ."
   ]
  },
  {
   "cell_type": "markdown",
   "metadata": {},
   "source": [
    "Score v Duration in minutes"
   ]
  },
  {
   "cell_type": "code",
   "execution_count": null,
   "metadata": {},
   "outputs": [
    {
     "data": {
      "text/plain": [
       "0.2971661791245515"
      ]
     },
     "execution_count": 103,
     "metadata": {},
     "output_type": "execute_result"
    }
   ],
   "source": [
    "df_anime['Score'].corr(df_anime['Duration in minutes'] , method = 'spearman')"
   ]
  },
  {
   "cell_type": "markdown",
   "metadata": {},
   "source": [
    "It has a moderate positive correlation"
   ]
  },
  {
   "cell_type": "code",
   "execution_count": null,
   "metadata": {},
   "outputs": [
    {
     "data": {
      "text/plain": [
       "<AxesSubplot:xlabel='Duration in minutes', ylabel='Score'>"
      ]
     },
     "execution_count": 105,
     "metadata": {},
     "output_type": "execute_result"
    },
    {
     "data": {
      "image/png": "[encoded data removed]",
      "text/plain": [
       "<Figure size 1080x360 with 1 Axes>"
      ]
     },
     "metadata": {
      "needs_background": "light"
     },
     "output_type": "display_data"
    }
   ],
   "source": [
    "plt.figure(figsize=(15,5))\n",
    "sns.scatterplot(data = df_anime , x = 'Duration in minutes' , y= 'Score' , hue = 'Score' , size = 'Score' , sizes = (20,200))"
   ]
  },
  {
   "cell_type": "markdown",
   "metadata": {},
   "source": [
    "As the length of the chapters increases, the rating of the anime increases slightly, as it has a positive upward correlation.\n",
    "\n"
   ]
  }
 ],
 "metadata": {
  "kernelspec": {
   "display_name": "Python 3",
   "language": "python",
   "name": "python3"
  },
  "language_info": {
   "codemirror_mode": {
    "name": "ipython",
    "version": 3
   },
   "file_extension": ".py",
   "mimetype": "text/x-python",
   "name": "python",
   "nbconvert_exporter": "python",
   "pygments_lexer": "ipython3",
   "version": "3.9.12"
  }
 },
 "nbformat": 4,
 "nbformat_minor": 4
}
